{
 "cells": [
  {
   "cell_type": "markdown",
   "metadata": {
    "collapsed": true,
    "pycharm": {
     "name": "#%% md\n"
    }
   },
   "source": [
    "# Markov Chains\n",
    "\n",
    "The Flumphs from planet Seyst live in one of three states:\n",
    "* Hungry\n",
    "* Content\n",
    "* Aggravated \n",
    "\n",
    "Based on the state of a Flumph on one day, you can predict the state on the day after. This could be represented as a \n",
    "table or matrix: <br>\n",
    "### Initial chance-matrix and chance-vector\n",
    "$H\\leftarrow \\mathbf{Hungry},\\space C \\leftarrow \\mathbf{Content},\\space A \\leftarrow \\mathbf{Aggravated}, \\space\n",
    "T \\leftarrow \\mathbf{Tomorrow},\\space D \\leftarrow \\mathbf{Today}$ <br>\n",
    "\n",
    "$\\begin{array} {|c|c|c|c|} \n",
    "\\hline D/T   & T_{H} & T_{C} & T_{A} \\\\\n",
    "\\hline D_{H} & 80\\% &  10\\% & 10\\% \\\\\n",
    "\\hline D_{C} & 40\\% & 50\\% & 10\\% \\\\\n",
    "\\hline D_{A} & 60\\% & 20\\% & 20\\% \\\\ \\hline\n",
    "\\end{array} $ <br> <br>\n",
    "\n",
    "$M_{C} = \\begin{bmatrix}0.80 & 0.40 &0.60 \\\\ 0.10 & 0.50 & 0.10\\\\ 0.10&0.10&0.20 \\end{bmatrix}$ <br>\n",
    "\n",
    "We also know that when a Flumph is born, it has a 10% chance to be hungry, a 70% chance to be content and a 20% chance \n",
    "to be aggravated. This can be turned into a vector. <br>\n",
    "$\\vec{c} = \\begin{bmatrix} 0.10 \\\\ 0.70 \\\\ 0.20 \\end{bmatrix}$ <br>\n",
    "\n",
    "To calculate the odds for the day after a Flumph is born, one simply has to calculate the matrix-vector product between\n",
    "these two. \n",
    "### The chances on the day after birth\n",
    "$\\vec{y} = \\begin{bmatrix}0.80 & 0.40 &0.60 \\\\ 0.10 & 0.50 & 0.10\\\\ 0.10&0.10&0.20 \\end{bmatrix} \\cdot \n",
    "\\begin{bmatrix} 0.10 \\\\ 0.70 \\\\ 0.20 \\end{bmatrix}$\n",
    ">$=\\begin{bmatrix} 0.08+0.28+0.12\\\\\n",
    "0.01+0.35+0.04\\\\\n",
    "0.01+0.07+0.04\\\\ \\end{bmatrix}$  \n",
    "\n",
    "$\\vec{y} = \\begin{bmatrix} 0.48\\\\0.4\\\\0.12 \\end{bmatrix}$ <br>\n",
    "This means, that on the day after a Flumph is born, there is a 48% chance that the Flumph is hungry, a 40% chance that\n",
    "the Flumph is content and a 12% chance that the Flumph is aggravated. <br>\n",
    "Below, you will see this solved by the script:"
   ]
  },
  {
   "cell_type": "code",
   "execution_count": 10,
   "metadata": {
    "pycharm": {
     "is_executing": false,
     "metadata": false,
     "name": "#%%\n"
    }
   },
   "outputs": [
    {
     "name": "stdout",
     "output_type": "stream",
     "text": [
      "y = [0.48, 0.4, 0.12]\n"
     ]
    }
   ],
   "source": [
    "def matrix_vector_product(activation, weights):\n",
    "    output_layer = list()\n",
    "    for w in weights:\n",
    "        vector = 0.0\n",
    "        for a in range(len(activation)):\n",
    "            vector1 = float(float(activation[a]) * float(w[a]))\n",
    "            vector += vector1\n",
    "        output_layer.append(vector)\n",
    "    return output_layer\n",
    "\n",
    "chance_matrix_1 = [\n",
    "    [0.8, 0.4, 0.6],\n",
    "    [0.1, 0.5, 0.2],\n",
    "    [0.1, 0.1, 0.2]]\n",
    "chance_vector_1 = [0.10, 0.70, 0.20]\n",
    "\n",
    "print(\"y =\",matrix_vector_product(chance_vector_1, chance_matrix_1))"
   ]
  },
  {
   "cell_type": "markdown",
   "metadata": {
    "pycharm": {
     "metadata": false,
     "name": "#%% md\n"
    }
   },
   "source": [
    "### Adding a 4th condition\n",
    "A Flumph can also be upside-down! (https://en.wikipedia.org/wiki/Flumph). When a Flumph is upside-down on one day, the\n",
    "chances of it being aggravated the next day are 30%, the chances of it being hungry is 30%, the chances of it being\n",
    "content 10% and chances of it being upside-down are 30%. <br><br>\n",
    "Due to adding a 4th condition, the chances in from the other conditions must also be altered. All of this results in the\n",
    "following matrix:\n",
    "\n",
    "$M_{C} = \\begin{bmatrix} \n",
    "0.70 & 0.30 & 0.50 & 0.30 \\\\\n",
    "0.10 & 0.60 & 0.10 & 0.30 \\\\\n",
    "0.10 & 0.10 & 0.20 & 0.10 \\\\\n",
    "0.10 & 0.10 & 0.20 & 0.30\n",
    " \\end{bmatrix}$ <br><br>\n",
    "Due to their floaty nature, it is likely that a Flumph is born upside-down. Because of this, the following chance-vector\n",
    "is accurate at birth: <br>\n",
    "$\\vec{c} = \\begin{bmatrix} 0.10\\\\0.50\\\\0.10\\\\0.30 \\end{bmatrix}$ <br>\n",
    "Assuming the same matrix-vector multiplication as before, the following chance-vector is accurate for the day after the \n",
    "Flumph is born, this time only using the function as defined above: \n",
    "### The chances on the day after birth"
   ]
  },
  {
   "cell_type": "code",
   "execution_count": 35,
   "metadata": {
    "pycharm": {
     "is_executing": false,
     "metadata": false,
     "name": "#%%\n"
    }
   },
   "outputs": [
    {
     "name": "stdout",
     "output_type": "stream",
     "text": [
      "y = [0.36, 0.36, 0.11000000000000001, 0.17]\n"
     ]
    }
   ],
   "source": [
    "chance_matrix_2 = [\n",
    "    [0.7, 0.3, 0.5, 0.3],\n",
    "    [0.1, 0.5, 0.1, 0.3],\n",
    "    [0.1, 0.1, 0.2, 0.1],\n",
    "    [0.1, 0.1, 0.2, 0.3]]\n",
    "\n",
    "chance_vector_2 = [0.1, 0.5, 0.1, 0.3]\n",
    "\n",
    "print(\"y =\",matrix_vector_product(chance_vector_2, chance_matrix_2))"
   ]
  },
  {
   "cell_type": "markdown",
   "metadata": {
    "pycharm": {
     "metadata": false,
     "name": "#%% md\n"
    }
   },
   "source": [
    "$\\vec{y} = \\begin{bmatrix} 0.36\\\\0.41\\\\0.1\\\\0.17 \\end{bmatrix}$\n",
    "\n",
    "### Estimating the likeliest condition in the future\n",
    "For both chance-matrices the nth chance-vector will be calculated through matrix-matrix multiplication.\n"
   ]
  },
  {
   "cell_type": "code",
   "execution_count": 36,
   "metadata": {
    "pycharm": {
     "is_executing": false,
     "metadata": false,
     "name": "#%%\n"
    }
   },
   "outputs": [],
   "source": [
    "import numpy as np\n",
    "def matrix_matrix_product(matrix1, matrix2):\n",
    "    matrix_product = list()\n",
    "    for column in np.transpose(matrix2):\n",
    "        matrix_product.append(matrix_vector_product(column, matrix1))\n",
    "    matrix_product = np.array(matrix_product)\n",
    "    return np.transpose(matrix_product)"
   ]
  },
  {
   "cell_type": "code",
   "execution_count": 9,
   "metadata": {
    "pycharm": {
     "is_executing": false,
     "metadata": false,
     "name": "#%%\n"
    }
   },
   "outputs": [],
   "source": [
    "n = 100"
   ]
  },
  {
   "cell_type": "code",
   "execution_count": 19,
   "metadata": {
    "pycharm": {
     "is_executing": false,
     "metadata": false,
     "name": "#%%\n"
    }
   },
   "outputs": [],
   "source": [
    "def get_nth(matrix, vector):\n",
    "    matrix_c = matrix.copy()\n",
    "    # n = global\n",
    "    for i in range(n):\n",
    "        matrix_c = matrix_matrix_product(matrix_c, matrix)\n",
    "    y = matrix_vector_product(vector, matrix_c)\n",
    "    # print(np.sum(y))\n",
    "    # for i in y:\n",
    "    #     print(round(i, 2), end=\"\\\\\\\\\")\n",
    "    return y"
   ]
  },
  {
   "cell_type": "code",
   "execution_count": 21,
   "metadata": {
    "pycharm": {
     "is_executing": false,
     "metadata": false,
     "name": "#%%\n"
    }
   },
   "outputs": [
    {
     "name": "stdout",
     "output_type": "stream",
     "text": [
      "For chance-matrix 3-conditions 100 days \n",
      "\ty = [0.7037037037037046, 0.1851851851851853, 0.11111111111111127]\n",
      "\n",
      "For chance-matrix 4-conditions 100 days \n",
      "\ty = [0.537037037037037, 0.21296296296296308, 0.11111111111111113, 0.1388888888888889]\n"
     ]
    }
   ],
   "source": [
    "print(\"For chance-matrix 3-conditions {} days \\n\\ty =\".format(n),get_nth(chance_matrix_1, chance_vector_1))\n",
    "print()\n",
    "print(\"For chance-matrix 4-conditions {} days \\n\\ty =\".format(n),get_nth(chance_matrix_2, chance_vector_2))"
   ]
  },
  {
   "cell_type": "markdown",
   "metadata": {
    "pycharm": {
     "metadata": false,
     "name": "#%% md\n"
    }
   },
   "source": [
    "After 100 days, the chance-vectors stabilize to the following vectors:<br>\n",
    "For 3 conditions: $\\vec{y} = \\begin{bmatrix}0.7\\\\0.19\\\\0.11 \\end{bmatrix}$ <br><br>\n",
    "For 4 conditions: $\\vec{y} = \\begin{bmatrix}0.54\\\\0.21\\\\0.11\\\\0.14 \\end{bmatrix}$ <br>\n",
    "\n",
    "From this, we can extrapolate that the likeliest condition for a Flumph by a large margin in both scenarios is hungry, \n",
    "followed up by content.\n",
    "\n"
   ]
  }
 ],
 "metadata": {
  "kernelspec": {
   "display_name": "Python 3",
   "language": "python",
   "name": "python3"
  },
  "language_info": {
   "codemirror_mode": {
    "name": "ipython",
    "version": 3
   },
   "file_extension": ".py",
   "mimetype": "text/x-python",
   "name": "python",
   "nbconvert_exporter": "python",
   "pygments_lexer": "ipython3",
   "version": "3.7.3"
  }
 },
 "nbformat": 4,
 "nbformat_minor": 1
}
