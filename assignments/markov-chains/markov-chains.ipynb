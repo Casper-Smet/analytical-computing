{
  "cells": [
    {
      "cell_type": "markdown",
      "metadata": {
        "collapsed": true,
        "pycharm": {
          "name": "#%% md\n"
        }
      },
      "source": [
        "# Markov Chains\n",
        "\n",
        "The Flumphs from planet Seyst live in one of three states:\n",
        "* Hungry\n",
        "* Content\n",
        "* Aggravated \n",
        "\n",
        "Based on the state of a Flumph on one day, you can predict the state on the day after. This could be represented as a \n",
        "table or matrix: \u003cbr\u003e\n",
        "### Initial chance-matrix and chance-vector\n",
        "$H\\leftarrow \\mathbf{Hungry},\\space C \\leftarrow \\mathbf{Content},\\space A \\leftarrow \\mathbf{Aggravated}, \\space\n",
        "T \\leftarrow \\mathbf{Tomorrow},\\space D \\leftarrow \\mathbf{Today}$ \u003cbr\u003e\n",
        "\n",
        "$\\begin{array} {|c|c|c|c|} \n",
        "\\hline D/T   \u0026 T_{H} \u0026 T_{C} \u0026 T_{A} \\\\\n",
        "\\hline D_{H} \u0026 80\\% \u0026  10\\% \u0026 10\\% \\\\\n",
        "\\hline D_{C} \u0026 40\\% \u0026 50\\% \u0026 10\\% \\\\\n",
        "\\hline D_{A} \u0026 60\\% \u0026 20\\% \u0026 20\\% \\\\ \\hline\n",
        "\\end{array} $ \u003cbr\u003e \u003cbr\u003e\n",
        "\n",
        "$M_{C} \u003d \\begin{bmatrix}0.80 \u0026 0.40 \u00260.60 \\\\ 0.10 \u0026 0.50 \u0026 0.20\\\\ 0.10\u00260.10\u00260.20 \\end{bmatrix}$ \u003cbr\u003e\n",
        "\n",
        "We also know that when a Flumph is born, it has a 10% chance to be hungry, a 70% chance to be content and a 20% chance \n",
        "to be aggravated. This can be turned into a vector. \u003cbr\u003e\n",
        "$\\vec{c} \u003d \\begin{bmatrix} 0.10 \\\\ 0.70 \\\\ 0.20 \\end{bmatrix}$ \u003cbr\u003e\n",
        "\n",
        "To calculate the odds for the day after a Flumph is born, one simply has to calculate the matrix-vector product between\n",
        "these two. \n",
        "### The chances on the day after birth\n",
        "$\\vec{y} \u003d \\begin{bmatrix}0.80 \u0026 0.40 \u00260.60 \\\\ 0.10 \u0026 0.50 \u0026 0.10\\\\ 0.10\u00260.10\u00260.20 \\end{bmatrix} \\cdot \n",
        "\\begin{bmatrix} 0.10 \\\\ 0.70 \\\\ 0.20 \\end{bmatrix}$\n",
        "\u003e$\u003d\\begin{bmatrix} 0.08+0.28+0.12\\\\\n",
        "0.01+0.35+0.04\\\\\n",
        "0.01+0.07+0.04\\\\ \\end{bmatrix}$  \n",
        "\n",
        "$\\vec{y} \u003d \\begin{bmatrix} 0.48\\\\0.4\\\\0.12 \\end{bmatrix}$ \u003cbr\u003e\n",
        "This means, that on the day after a Flumph is born, there is a 48% chance that the Flumph is hungry, a 40% chance that\n",
        "the Flumph is content and a 12% chance that the Flumph is aggravated. \u003cbr\u003e\n",
        "Below, you will see this solved by the script:"
      ]
    },
    {
      "cell_type": "code",
      "execution_count": 1,
      "metadata": {
        "pycharm": {
          "is_executing": false,
          "metadata": false,
          "name": "#%%\n"
        }
      },
      "outputs": [
        {
          "name": "stdout",
          "output_type": "stream",
          "text": [
            "y \u003d [0.48, 0.4, 0.12]\n"
          ]
        }
      ],
      "source": [
        "def matrix_vector_product(activation, weights):\n",
        "    output_layer \u003d list()\n",
        "    for w in weights:\n",
        "        vector \u003d 0.0\n",
        "        for a in range(len(activation)):\n",
        "            vector1 \u003d float(float(activation[a]) * float(w[a]))\n",
        "            vector +\u003d vector1\n",
        "        output_layer.append(vector)\n",
        "    return output_layer\n",
        "\n",
        "chance_matrix_1 \u003d [\n",
        "    [0.8, 0.4, 0.6],\n",
        "    [0.1, 0.5, 0.2],\n",
        "    [0.1, 0.1, 0.2]]\n",
        "chance_vector_1 \u003d [0.10, 0.70, 0.20]\n",
        "\n",
        "print(\"y \u003d\",matrix_vector_product(chance_vector_1, chance_matrix_1))"
      ]
    },
    {
      "cell_type": "markdown",
      "metadata": {
        "pycharm": {
          "metadata": false,
          "name": "#%% md\n"
        }
      },
      "source": [
        "### Adding a 4th condition\n",
        "A Flumph can also be upside-down! (https://en.wikipedia.org/wiki/Flumph). When a Flumph is upside-down on one day, the\n",
        "chances of it being aggravated the next day are 30%, the chances of it being hungry is 30%, the chances of it being\n",
        "content 10% and chances of it being upside-down are 30%. \u003cbr\u003e\u003cbr\u003e\n",
        "Due to adding a 4th condition, the chances in from the other conditions must also be altered. All of this results in the\n",
        "following matrix:\n",
        "\n",
        "$M_{C} \u003d \\begin{bmatrix} \n",
        "0.70 \u0026 0.30 \u0026 0.50 \u0026 0.30 \\\\\n",
        "0.10 \u0026 0.60 \u0026 0.10 \u0026 0.30 \\\\\n",
        "0.10 \u0026 0.10 \u0026 0.20 \u0026 0.10 \\\\\n",
        "0.10 \u0026 0.10 \u0026 0.20 \u0026 0.30\n",
        " \\end{bmatrix}$ \u003cbr\u003e\u003cbr\u003e\n",
        "Due to their floaty nature, it is likely that a Flumph is born upside-down. Because of this, the following chance-vector\n",
        "is accurate at birth: \u003cbr\u003e\n",
        "$\\vec{c} \u003d \\begin{bmatrix} 0.10\\\\0.50\\\\0.10\\\\0.30 \\end{bmatrix}$ \u003cbr\u003e\n",
        "Assuming the same matrix-vector multiplication as before, the following chance-vector is accurate for the day after the \n",
        "Flumph is born, this time only using the function as defined above: \n",
        "### The chances on the day after birth"
      ]
    },
    {
      "cell_type": "code",
      "execution_count": 52,
      "metadata": {
        "pycharm": {
          "is_executing": false,
          "metadata": false,
          "name": "#%%\n"
        }
      },
      "outputs": [
        {
          "name": "stdout",
          "output_type": "stream",
          "text": [
            "y \u003d [0.36, 0.36, 0.11000000000000001, 0.17]\n"
          ]
        }
      ],
      "source": [
        "names1 \u003d [\"Hungry\", \"Content\", \"Aggravated\"]\n",
        "names2 \u003d names1.copy()\n",
        "names2.append(\"Upside-Down\")\n",
        "chance_matrix_2 \u003d [\n",
        "    [0.7, 0.3, 0.5, 0.3],\n",
        "    [0.1, 0.5, 0.1, 0.3],\n",
        "    [0.1, 0.1, 0.2, 0.1],\n",
        "    [0.1, 0.1, 0.2, 0.3]]\n",
        "\n",
        "chance_vector_2 \u003d [0.1, 0.5, 0.1, 0.3]\n",
        "\n",
        "print(\"y \u003d\",matrix_vector_product(chance_vector_2, chance_matrix_2))"
      ]
    },
    {
      "cell_type": "markdown",
      "metadata": {
        "pycharm": {
          "metadata": false,
          "name": "#%% md\n"
        }
      },
      "source": [
        "$\\vec{y} \u003d \\begin{bmatrix} 0.36\\\\0.36\\\\0.11\\\\0.17 \\end{bmatrix}$\n",
        "\n",
        "### Estimating the likeliest condition in the future\n",
        "For both chance-matrices the nth chance-vector will be calculated through matrix-matrix multiplication.\n"
      ]
    },
    {
      "cell_type": "code",
      "execution_count": 36,
      "metadata": {
        "pycharm": {
          "is_executing": false,
          "metadata": false,
          "name": "#%%\n"
        }
      },
      "outputs": [],
      "source": [
        "import numpy as np\n",
        "def matrix_matrix_product(matrix1, matrix2):\n",
        "    matrix_product \u003d list()\n",
        "    for column in np.transpose(matrix2):\n",
        "        matrix_product.append(matrix_vector_product(column, matrix1))\n",
        "    matrix_product \u003d np.array(matrix_product)\n",
        "    return np.transpose(matrix_product)"
      ]
    },
    {
      "cell_type": "code",
      "execution_count": 3,
      "metadata": {
        "pycharm": {
          "is_executing": false,
          "metadata": false,
          "name": "#%%\n"
        }
      },
      "outputs": [],
      "source": [
        "n \u003d 99"
      ]
    },
    {
      "cell_type": "code",
      "execution_count": 9,
      "metadata": {
        "pycharm": {
          "is_executing": false,
          "metadata": false,
          "name": "#%%\n"
        }
      },
      "outputs": [],
      "source": "\n%matplotlib inline\nfrom matplotlib import pyplot as plt\nfrom matplotlib import style\nplt.rcParams[\u0027figure.figsize\u0027] \u003d [10,5]\nstyle.use(\u0027ggplot\u0027)\ndef get_nth(matrix, vector, **kwargs):\n    matrix_c \u003d matrix.copy()\n    plots \u003d [[] for index in range(len(vector))]\n    # Day 0 \n    for x in range(len(vector)):\n            lst \u003d plots[x]\n            lst.append(vector[x])\n    # Day 1\n    temp_vector \u003d matrix_vector_product(vector, matrix)\n    for x in range(len(temp_vector)):\n            lst \u003d plots[x]\n            lst.append(temp_vector[x])\n    # n \u003d global\n    for i in range(n):\n        matrix_c \u003d matrix_matrix_product(matrix_c, matrix)\n        temp_vector \u003d matrix_vector_product(vector, matrix_c)\n        for x in range(len(temp_vector)):\n            lst \u003d plots[x]\n            lst.append(temp_vector[x])\n    y \u003d matrix_vector_product(vector, matrix_c)\n    for chance_plot in range(len(plots)):\n        if kwargs.get(\"names\"):\n            plt.plot(plots[chance_plot], label\u003dkwargs.get(\"names\")[chance_plot])\n        else:\n            plt.plot(plots[chance_plot])\n    plt.xlabel(\"{} days, with 0 being day of birth\".format(n+1))\n    plt.ylabel(\"Percentages shown in decimals\")\n    plt.legend()    \n    plt.show()\n    return y"
    },
    {
      "cell_type": "code",
      "execution_count": 10,
      "metadata": {
        "pycharm": {
          "is_executing": false,
          "metadata": false,
          "name": "#%%\n"
        }
      },
      "outputs": [
        {
          "data": {
            "text/plain": "\u003cFigure size 720x360 with 1 Axes\u003e",
            "image/png": "[encoded data removed]"
          },
          "metadata": {},
          "output_type": "display_data"
        },
        {
          "name": "stdout",
          "text": [
            "For chance-matrix 3-conditions 100 days \n\ty \u003d [0.7037037037037046, 0.1851851851851853, 0.11111111111111127]\n\n",
            "For chance-matrix 4-conditions 100 days \n\ty \u003d [0.537037037037037, 0.21296296296296308, 0.11111111111111113, 0.1388888888888889]\n"
          ],
          "output_type": "stream"
        },
        {
          "data": {
            "text/plain": "\u003cFigure size 720x360 with 1 Axes\u003e",
            "image/png": "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\u003d\n"
          },
          "metadata": {},
          "output_type": "display_data"
        }
      ],
      "source": [
        "print(\"For chance-matrix 3-conditions {} days \\n\\ty \u003d\".format(n+1),get_nth(chance_matrix_1, chance_vector_1, names\u003dnames1))\n",
        "print()\n",
        "print(\"For chance-matrix 4-conditions {} days \\n\\ty \u003d\".format(n+1),get_nth(chance_matrix_2, chance_vector_2, names\u003dnames2))"
      ]
    },
    {
      "cell_type": "markdown",
      "metadata": {
        "pycharm": {
          "metadata": false,
          "name": "#%% md\n"
        }
      },
      "source": [
        "After 100 days, the chance-vectors stabilize to the following vectors:\u003cbr\u003e\n",
        "For 3 conditions: $\\vec{y} \u003d \\begin{bmatrix}0.7\\\\0.19\\\\0.11 \\end{bmatrix}$ \u003cbr\u003e\u003cbr\u003e\n",
        "For 4 conditions: $\\vec{y} \u003d \\begin{bmatrix}0.54\\\\0.21\\\\0.11\\\\0.14 \\end{bmatrix}$ \u003cbr\u003e\n",
        "\n",
        "From this, we can extrapolate that the likeliest condition for a Flumph by a large margin in both scenarios is hungry, \n",
        "followed up by content. Another thing to note is that somewhere before the n \u003d 10 mark, all lines stagnate into linear \n",
        "horizontal lines. This means that the chance vector is constant from that point onwards.\n"
      ]
    },
    {
      "cell_type": "markdown",
      "metadata": {
        "pycharm": {
          "metadata": false,
          "name": "#%% md\n"
        }
      },
      "source": [
        "## Getting the nth state through Eigenbasis\n",
        "Calculating the nth state through Python is easy. It is simply taking the dot product of a matrix with itself n (or n-1 \n",
        "in this script) amount of times. On paper, however, this is a far more tedious process.  \n",
        "\n",
        "To expedite this process, one can transform the matrix into a diagonal matrix. Thus, getting the nth state from an \n",
        "$O(N^{2})$ to an $O(N)$ operation. \n",
        "### Eigenvalues\n",
        "The first step to calculating the nth state, is calculating a matrix\u0027 eigenvalues. This is done using the determinant \n",
        "and an unknown Lambda($\\lambda$). The values of $\\lambda$ are the eigenvalues.   \u003cbr\u003e\u003cbr\u003e\n",
        "You take the formula for the determinant, and alter it by subtracting $\\lambda$ from the diagonal and setting the \n",
        "determinant to zero. \u003cbr\u003e\u003cbr\u003e\n",
        "#### Determinant\n",
        "$ \\det \\left( \\begin{matrix}x_{1} -\\lambda \u0026 y_{1} \u0026 z_{1} \\\\ x_{2} \u0026 y_{2} -\\lambda \u0026 z_{2}\\\\ \n",
        "x_{3} \u0026 y_{3} \u0026 z_{3} -\\lambda \\end{matrix} \\right) \u003d 0$\u003cbr\u003e\u003cbr\u003e\n",
        "Or in the case of the first scenario:\u003cbr\u003e\u003cbr\u003e\n",
        "$ \\det \\left( \\begin{matrix}0.80 -\\lambda \u0026 0.40 \u0026 0.60 \n",
        "\\\\ 0.10 \u0026 0.50 -\\lambda \u0026 0.20\\\\ 0.10 \u0026 0.10 \u0026 0.20 -\\lambda \\end{matrix} \\right) \u003d 0$\n",
        "#### Characteristic equation\n",
        "Using the rule of Sarrus (https://en.wikipedia.org/wiki/Rule_of_Sarrus) you can determine the characteristic equation of \n",
        "a 3x3 matrix:  \n",
        "\n",
        "$(x_{1} -\\lambda)(y_{2}-\\lambda)(z_{3}-\\lambda)+(y_{1}z_{2}x_{3}) + (z_{1}x_{2}y_{3})- \n",
        "(z_{1}(y_{2}-\\lambda)x_{3})-((x_{1}-\\lambda)z_{2}y_{3}) - (y_{1}x_{2}(z_{3} - \\lambda)) \u003d 0$  \n",
        "At this point, you can enter the variables into your formula:  \n",
        "$0 \u003d (0.80-\\lambda)(0.50-\\lambda)(0.20-\\lambda)+(0.40\\times0.20\\times0.10)+(0.60\\times0.10\\times0.10) - \n",
        "(0.60 \\times (0.50 - \\lambda)\\times 0.10)-((0.80-\\lambda)\\times0.20\\times0.10)-\n",
        "(0.40\\times 0.10\\times(0.20-\\lambda)) $ \u003cbr\u003e\n",
        "This has been broken up into two separate parts for to make solving easier (the formula is simply too long for Jupyter). \n",
        "Everything left of the first minus sign \n",
        "outside parentheses is A, everything right is B.\u003cbr\u003e\n",
        "\n",
        "\n",
        "$A\u003d(0.80-\\lambda)(0.50-\\lambda)(0.20-\\lambda)+(0.40\\times0.20\\times0.10)+(0.60\\times0.10\\times0.10)$\n",
        "\u003e$\u003d(0.80-\\lambda)(0.50-\\lambda)(0.20-\\lambda) + 0.008‬ + 0.006‬$\u003cbr\u003e\n",
        "$\u003d(0.80-\\lambda)(0.50-\\lambda)(0.20-\\lambda)+ 0.014‬$  \n",
        "$\u003d(0.40 - 0.80\\lambda - 0.50\\lambda + \\lambda^{2})(0.20 - \\lambda) + 0.014$  \n",
        "$\u003d(0.40 - 1.3\\lambda+ \\lambda^{2})(0.20 - \\lambda) + 0.014$  \n",
        "$\u003d0.08 - 0.40\\lambda -0.26\\lambda + 1.3\\lambda^{2} + 0.20\\lambda^{2} - \\lambda^{3} + 0.014$  \n",
        "$\u003d0.094 -0.66\\lambda + 1.50\\lambda^{2} - \\lambda^{3}$\n",
        "\n",
        "$A \u003d -\\lambda^{3} + 1.50\\lambda^{2} - 0.66\\lambda + 0.094$ \u003cbr\u003e\u003cbr\u003e\n",
        "\n",
        "$B \u003d -(0.60 \\times (0.50 - \\lambda)\\times 0.10)-((0.80-\\lambda)\\times0.20\\times0.10)-\n",
        "(0.40\\times 0.10\\times(0.20-\\lambda))$\n",
        "\u003e$\u003d-0.10(0.30 - 0.60\\lambda) - 0.10(0.16 - 0.20\\lambda)-0.40(0.02 - 0.10\\lambda)$  \n",
        "$\u003d-0.03 + 0.06\\lambda - 0.016 + 0.02\\lambda - 0.008‬ + 0.04\\lambda$  \n",
        "\n",
        "$B\u003d0.12\\lambda - 0.054‬$  \n",
        "\n",
        "$0 \u003d A + B$\n",
        "\u003e$\u003d -\\lambda^{3} + 1.50\\lambda^{2} - 0.66\\lambda + 0.094 + 0.12\\lambda - 0.054‬$  \n",
        "$\u003d -\\lambda^{3} + 1.50\\lambda^{2} - 0.54\\lambda + 0.04$\n",
        "\n",
        "$0 \u003d -\\lambda^{3} + 1.50\\lambda^{2} - 0.54\\lambda + 0.04$  \n",
        "$0 \u003d (-\\lambda + 1)(\\lambda-0.4)(\\lambda-0.1)$  \n",
        "\n",
        "The three values for lambda where the determinant equals zero, are 1, 0.4 and 0.1. These values the eigenvalues to our \n",
        "previously defined matrix. "
      ]
    },
    {
      "cell_type": "markdown",
      "metadata": {
        "pycharm": {
          "metadata": false,
          "name": "#%% md\n"
        }
      },
      "source": "### Eigenvectors (WIP)\nWhile I know which formulas are involved in calculating the eigenvectors, their application still eludes me. The steps\ntaken below are simply the first steps in calculating the eigenvectors. Eigenvectors noted below are calculated through \nthe Numpy \u0027eig\u0027 function.\u003cbr\u003e\nThe next step is to calculate the eigenvectors. For each unique eigenvalue, there is an eigenvector. Calculating the \neigenvector uses the following formula:  \n$(A-\\lambda\\cdot I)\\vec{v} \u003d \\vec{0}$  \nIn our case, there are three different versions of $A-\\lambda\\cdot I$, and thus, three possible eigenvectors: \u003cbr\u003e\u003cbr\u003e\n#### For $\\lambda \u003d 1$  \n\u003e$\\begin{bmatrix}0.80 -1  \u0026 0.40 \u0026 0.60 \n\\\\ 0.10 \u0026 0.50 - 1 \u0026 0.20\\\\ 0.10 \u0026 0.10 \u0026 0.20 - 1 \\end{bmatrix}\n \\begin{bmatrix} v_{1} \\\\ v_{2} \\\\ v_{3} \\end{bmatrix} \u003d \\begin{bmatrix} 0\\\\0\\\\0 \\end{bmatrix}$\u003cbr\u003e\u003cbr\u003e\n $\\begin{bmatrix}-0.20 \u0026 0.40 \u0026 0.60 \n\\\\ 0.10 \u0026 -0.50 \u0026 0.20\\\\ 0.10 \u0026 0.10 \u0026 -0.80\\end{bmatrix}\n \\begin{bmatrix} v_{1} \\\\ v_{2} \\\\ v_{3} \\end{bmatrix} \u003d \\begin{bmatrix} 0\\\\0\\\\0 \\end{bmatrix}$\u003cbr\u003e\n RREF:\u003cbr\u003e\n$\\begin{bmatrix}1\u00260\u00260 \\\\ 0\u00261\u00260\\\\0\u00260\u00261 \\end{bmatrix}\n\\begin{bmatrix} v_{1} \\\\ v_{2} \\\\ v_{3} \\end{bmatrix} \u003d \\begin{bmatrix} 0\\\\0\\\\0 \\end{bmatrix}$\u003cbr\u003e\u003cbr\u003e\n$1v_{1} + 0v_{2} + 0v_{3} \u003d 0$  \n$0v_{1} + 1v_{2} + 0v_{3} \u003d 0$  \n$0v_{1} + 0v_{2} + 1v_{3} \u003d 0$  \n\nEigenvector for $\\lambda \u003d 1: \\begin{bmatrix} -0.96\\\\-0.25\\\\-0.15\\\\ \\end{bmatrix}$\u003cbr\u003e\n#### For $\\lambda \u003d 0.4$\n\u003e$\\begin{bmatrix}0.80 -0.40  \u0026 0.40 \u0026 0.60 \n\\\\ 0.10 \u0026 0.50 - 0.40 \u0026 0.20\\\\ 0.10 \u0026 0.10 \u0026 0.20 - 0.40 \\end{bmatrix}\n \\begin{bmatrix} v_{1} \\\\ v_{2} \\\\ v_{3} \\end{bmatrix} \u003d \\begin{bmatrix} 0\\\\0\\\\0 \\end{bmatrix}$\u003cbr\u003e\u003cbr\u003e\n$\\begin{bmatrix}0.40\u0026 0.40 \u0026 0.60 \n\\\\ 0.10 \u0026 0.10 \u0026 0.20\\\\ 0.10 \u0026 0.10 \u0026 -0.20 \\end{bmatrix}\n \\begin{bmatrix} v_{1} \\\\ v_{2} \\\\ v_{3} \\end{bmatrix} \u003d \\begin{bmatrix} 0\\\\0\\\\0 \\end{bmatrix}$\u003cbr\u003e\n RREF:\u003cbr\u003e\n $\\begin{bmatrix}1\u0026 1 \u0026 0 \n\\\\ 0 \u0026 0 \u0026 1\\\\ 0 \u0026 0 \u0026 0 \\end{bmatrix}\n \\begin{bmatrix} v_{1} \\\\ v_{2} \\\\ v_{3} \\end{bmatrix} \u003d \\begin{bmatrix} 0\\\\0\\\\0 \\end{bmatrix}$\u003cbr\u003e\u003cbr\u003e\n$1v_{1} + 1v_{2} + 0v_{3} \u003d 0$  \n$0v_{1} + 0v_{2} + 1v_{3} \u003d 0$  \n$0v_{1} + 0v_{2} + 0v_{3} \u003d 0$ \u003cbr\u003e\n\nEigenvector for $\\lambda \u003d 0.4: \\begin{bmatrix} -0.71\\\\0.71\\\\0.0 \\end{bmatrix}$\u003cbr\u003e\n#### For $\\lambda \u003d 0.1$\n\u003e$\\begin{bmatrix}0.80 -0.10  \u0026 0.40 \u0026 0.60 \n\\\\ 0.10 \u0026 0.50 - 0.10 \u0026 0.20\\\\ 0.10 \u0026 0.10 \u0026 0.20 - 0.10 \\end{bmatrix}\n \\begin{bmatrix} v_{1} \\\\ v_{2} \\\\ v_{3} \\end{bmatrix} \u003d \\begin{bmatrix} 0\\\\0\\\\0 \\end{bmatrix}$\u003cbr\u003e\u003cbr\u003e\n$\\begin{bmatrix}0.70\u0026 0.40 \u0026 0.60 \n\\\\ 0.10 \u0026 0.40 \u0026 0.20\\\\ 0.10 \u0026 0.10 \u0026 0.10 \\end{bmatrix}\n \\begin{bmatrix} v_{1} \\\\ v_{2} \\\\ v_{3} \\end{bmatrix} \u003d \\begin{bmatrix} 0\\\\0\\\\0 \\end{bmatrix}$\u003cbr\u003e\n RREF:\u003cbr\u003e\n $\\begin{bmatrix}1\u0026 0 \u0026 \\frac{2}{3} \n\\\\ 0 \u0026 1 \u0026 \\frac{1}{3}\\\\ 0 \u0026 0 \u0026 0 \\end{bmatrix}\n \\begin{bmatrix} v_{1} \\\\ v_{2} \\\\ v_{3} \\end{bmatrix} \u003d \\begin{bmatrix} 0\\\\0\\\\0 \\end{bmatrix}$\u003cbr\u003e\u003cbr\u003e\n$1v_{1} + 0v_{2} + \\frac{2}{3}v_{3} \u003d 0$  \n$0v_{1} + 1v_{2} + \\frac{1}{3}v_{3} \u003d 0$  \n$0v_{1} + 0v_{2} + 0v_{3} \u003d 0$ \u003cbr\u003e\n\nEigenvector for $\\lambda \u003d 0.1: \\begin{bmatrix} -0.53\\\\-0.27\\\\0.8 \\end{bmatrix}$\u003cbr\u003e\n \n### Eigenbasis\nThe eigenvectors from earlier can then be arranged into a new matrix called the Eigenbasis: \u003cbr\u003e\n$P \u003d \\begin{bmatrix}\n-0.96\u0026-0.71\u0026-0.53\\\\\n-0.25\u00260.71\u0026-0.27\\\\\n-0.15\u00260.0\u00260.8\\\\ \\end{bmatrix}$ \u003cbr\u003e\nThe inverse of the eigenbasis must also be calculated: \u003cbr\u003e\n$P^{-1}\u003d\\begin{bmatrix}\n -0.74\u0026-0.74\u0026-0.74\\\\\n-0.31\u00261.1\u00260.16\\\\\n-0.14\u0026-0.14\u00261.11\\\\\n\\end{bmatrix}$\n\n### Putting together the final pieces of the puzzle (WIP)\nUsing the eigenvalues, the eigenbasis and the inverted eigenbasis it is possible to reconstruct the original matrix:  \n$A \u003d P\\cdot E\\cdot P^{-1}$\u003cbr\u003e\nBut what is the E? The E is a diagonal matrix based on the Eigenvalues from earlier!   \n$E \u003d \\begin{bmatrix} 1.0\u00260.0\u00260.0\\\\\n0.0\u00260.4\u00260.0\\\\\n0.0\u00260.0\u00260.1\\\\ \\end{bmatrix}$  \n\n$A \u003d \\begin{bmatrix}\n-0.96\u0026-0.71\u0026-0.53\\\\\n-0.25\u00260.71\u0026-0.27\\\\\n-0.15\u00260.0\u00260.8\\\\ \\end{bmatrix} \\cdot \n\\begin{bmatrix} 1.0\u00260.0\u00260.0\\\\\n0.0\u00260.4\u00260.0\\\\\n0.0\u00260.0\u00260.1\\\\ \\end{bmatrix} \\cdot\n\\begin{bmatrix}\n -0.74\u0026-0.74\u0026-0.74\\\\\n-0.31\u00261.1\u00260.16\\\\\n-0.14\u0026-0.14\u00261.11\\\\\n\\end{bmatrix} \u003d \n\\begin{bmatrix} 0.8\u00260.4\u00260.6\\\\\n0.1\u00260.5\u00260.2\\\\\n0.1\u00260.1\u00260.2\\\\ \\end{bmatrix}$ \u003cbr\u003e\u003cbr\u003e\n#### Calculating the nth power of a matrix\nCalculating the nth power of a matrix requires a slight alteration to the formula we used above:\n$A^{n} \u003d P\\cdot E^{n}\\cdot P^{-1}$\u003cbr\u003e\nYou see, when a matrix has been diagonalised as we have here, you can simply take the nth power of the diagonal matrix\nand input that into the $A \u003d P\\cdot E\\cdot P^{-1}$ formula.\u003cbr\u003e\nCalculating the nth power of a diagonal matrix is simple:\u003cbr\u003e\n$M^{n} \u003d \\begin{bmatrix} a^{n} \u0026 0 \u0026 0\\\\ 0 \u0026 b^{n} \u0026 0 \\\\ 0 \u0026 0 \u0026 c^{n} \\end{bmatrix}$\u003cbr\u003e\nOr in case of our $E$:\u003cbr\u003e\n$E^{n} \u003d \\begin{bmatrix} 1.0^{n}\u00260.0\u00260.0\\\\\n0.0\u00260.4^{n}\u00260.0\\\\\n0.0\u00260.0\u00260.1^{n}\\\\ \\end{bmatrix}$ \u003cbr\u003e\nFor this assignment, n \u003d 100:\u003cbr\u003e\n$E^{100} \u003d \\begin{bmatrix} 1.0^{100}\u00260.0\u00260.0\\\\\n0.0\u00260.4^{100}\u00260.0\\\\\n0.0\u00260.0\u00260.1^{100}\\\\ \\end{bmatrix} \u003d \\begin{bmatrix} 1.0\u00260.0\u00260.0\\\\\n0.0\u00261.6\\cdot10^{-40}\u00260.0\\\\\n0.0\u00260.0\u00261 \\cdot 10^{-100}\\\\ \\end{bmatrix}$\u003cbr\u003e\n\nInput this into $A^{100} \u003d P\\cdot E^{100}\\cdot P^{-1}$:\u003cbr\u003e\n$A^{100} \u003d \\begin{bmatrix}\n-0.96\u0026-0.71\u0026-0.53\\\\\n-0.25\u00260.71\u0026-0.27\\\\\n-0.15\u00260.0\u00260.8\\\\ \\end{bmatrix} \\cdot \n\\begin{bmatrix} 1.0\u00260.0\u00260.0\\\\\n0.0\u00261.6\\cdot10^{-40}\u00260.0\\\\\n0.0\u00260.0\u00261 \\cdot 10^{-100}\\\\ \\end{bmatrix} \\cdot\n\\begin{bmatrix}\n -0.74\u0026-0.74\u0026-0.74\\\\\n-0.31\u00261.1\u00260.16\\\\\n-0.14\u0026-0.14\u00261.11\\\\\n\\end{bmatrix} \u003d \n\\begin{bmatrix} \n\\frac{19}{27}\u0026\\frac{19}{27}\u0026\\frac{19}{27}\\\\\n\\frac{5}{27}\u0026\\frac{5}{27}\u0026\\frac{5}{27}\\\\\n\\frac{1}{9}\u0026\\frac{1}{9}\u0026\\frac{1}{9}\\\\ \\end{bmatrix}$\n\n### The nth state of the Flumph\u0027s chance vector\nThe final step, is to calculate the matrix-vector product between $A^{100}$ and $\\vec{c}$:\u003cbr\u003e\n*Note that this isn\u0027t actually necessary, the chance-matrix has plateaued so the outcome of this calculation will simply\n be a column from the matrix.*\u003cbr\u003e\n$\\vec{y} \u003d A^{100} \\cdot \\vec{c}$\u003cbr\u003e\n$\\vec{c} \u003d \\begin{bmatrix} 0.10 \\\\ 0.70 \\\\ 0.20 \\end{bmatrix}$\u003cbr\u003e\n$\\vec{y} \u003d \\begin{bmatrix} \n\\frac{19}{27}\u0026\\frac{19}{27}\u0026\\frac{19}{27}\\\\\n\\frac{5}{27}\u0026\\frac{5}{27}\u0026\\frac{5}{27}\\\\\n\\frac{1}{9}\u0026\\frac{1}{9}\u0026\\frac{1}{9}\\\\ \\end{bmatrix} \\cdot \n\\begin{bmatrix} 0.10 \\\\ 0.70 \\\\ 0.20 \\end{bmatrix}$\u003cbr\u003e\n$\\vec{y} \u003d \\begin{bmatrix} \\frac{19}{27} \\\\ \\frac{5}{27} \\\\ \\frac{1}{9} \\end{bmatrix} \\approx \n\\begin{bmatrix} 0.70\\\\0.19\\\\0.11 \\end{bmatrix}$\u003cbr\u003e\nThe answer is exactly as expected from \n[Estimating the likeliest condition in the future](#Estimating-the-likeliest-condition-in-the-future). \u003cbr\u003e\nBelow is the Python function that follows the same steps as the calculation above."
    },
    {
      "cell_type": "code",
      "execution_count": 10,
      "metadata": {
        "pycharm": {
          "is_executing": false,
          "metadata": false,
          "name": "#%%\n"
        }
      },
      "outputs": [],
      "source": [
        "def get_nth_eigen(matrix, vector):\n",
        "    # Get eigenvalues and eigenvectors\n",
        "    values, vectors \u003d np.linalg.eig(matrix)\n",
        "    # Make a diagonal matrix from the the Eigenvalues\n",
        "    diagonal_matrix \u003d np.diag(values)\n",
        "\n",
        "    # Invert the eigenvectors\n",
        "    inverted_vectors \u003d np.linalg.inv(vectors)\n",
        "\n",
        "    # diagonal matrix to the power of n + 1\n",
        "    power_n_matrix \u003d np.power(diagonal_matrix, n + 1)\n",
        "\n",
        "    # Reconstruct matrix A to the power of n + 1\n",
        "    reconstructed_matrix \u003d vectors.dot(power_n_matrix).dot(inverted_vectors)\n",
        "\n",
        "    # Calculate output vector\n",
        "    output_vector \u003d matrix_vector_product(vector, reconstructed_matrix)\n",
        "\n",
        "    return output_vector, reconstructed_matrix\n"
      ]
    },
    {
      "cell_type": "code",
      "execution_count": 15,
      "metadata": {
        "pycharm": {
          "is_executing": false,
          "metadata": false,
          "name": "#%%\n"
        }
      },
      "outputs": [
        {
          "name": "stdout",
          "output_type": "stream",
          "text": [
            "The Matrix A^100:\n",
            "\t [0.7037037 0.7037037 0.7037037]\n",
            "\t [0.18518519 0.18518519 0.18518519]\n",
            "\t [0.11111111 0.11111111 0.11111111]\n",
            "\n",
            "The resulting vector y:\n",
            "\t| 0.7037037037037351 |\n",
            "\t| 0.1851851851851936 |\n",
            "\t| 0.11111111111111606 |\n"
          ]
        }
      ],
      "source": [
        "vector_eig, matrix_eig \u003d get_nth_eigen(chance_matrix_1, chance_vector_1)\n",
        "print(\"The Matrix A^{}:\".format(n + 1))\n",
        "for row in matrix_eig:\n",
        "    print(\"\\t\", row)\n",
        "print()\n",
        "print(\"The resulting vector y:\")\n",
        "for value in vector_eig:\n",
        "    print(\"\\t|\",value,\"|\")\n"
      ]
    }
  ],
  "metadata": {
    "kernelspec": {
      "display_name": "Python 3",
      "language": "python",
      "name": "python3"
    },
    "language_info": {
      "codemirror_mode": {
        "name": "ipython",
        "version": 3
      },
      "file_extension": ".py",
      "mimetype": "text/x-python",
      "name": "python",
      "nbconvert_exporter": "python",
      "pygments_lexer": "ipython3",
      "version": "3.7.3"
    }
  },
  "nbformat": 4,
  "nbformat_minor": 1
}