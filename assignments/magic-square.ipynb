{
  "cells": [
    {
      "cell_type": "code",
      "execution_count": 3,
      "metadata": {
        "collapsed": true,
        "pycharm": {
          "is_executing": false
        }
      },
      "outputs": [
        {
          "name": "stdout",
          "text": [
            "1 2 3 4 \n3 4 1 2 \n2 3 1 4 \n7 8 -2 4 \n"
          ],
          "output_type": "stream"
        }
      ],
      "source": "magic_square \u003d [[1, 2, 3, 4], \n                [3, 4, 1, 2], \n                [2, 3, 1, 4], \n                [7, 8, -2, 4]]\nfor i in magic_square:\n    for x in i:\n        print(x, end\u003d\u0027 \u0027)\n    print()\n"
    }
  ],
  "metadata": {
    "language_info": {
      "codemirror_mode": {
        "name": "ipython",
        "version": 2
      },
      "file_extension": ".py",
      "mimetype": "text/x-python",
      "name": "python",
      "nbconvert_exporter": "python",
      "pygments_lexer": "ipython2",
      "version": "2.7.6"
    },
    "kernelspec": {
      "name": "python3",
      "language": "python",
      "display_name": "Python 3"
    }
  },
  "nbformat": 4,
  "nbformat_minor": 0
}