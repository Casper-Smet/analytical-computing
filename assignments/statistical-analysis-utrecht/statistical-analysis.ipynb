{
 "cells": [
  {
   "cell_type": "markdown",
   "metadata": {
    "collapsed": true,
    "pycharm": {
     "name": "#%% md\n"
    }
   },
   "source": [
    "# Statistical analysis of Utrecht\n",
    "The file 'utrecht.csv' gives access to ... different statistics on the region in Utrecht GM0344 from 2002 to 2019. \n",
    "(in Dutch)\n",
    " -  Bevolking aan het begin van de periode\n",
    " -  Levend geboren kinderen\n",
    " -  Overledenen\n",
    " -  Totale vestiging\n",
    " -  Vestiging vanuit een andere gemeente\n",
    " -  Immigratie\n",
    " -  Totaal vertrek inclusief administratieve correcties\n",
    " -  Vertrek naar andere gemeente\n",
    " -  Emigratie inclusief administratieve correcties\n",
    " -  Overige correcties\n",
    " -  Bevolkingsgroei\n",
    " -  Bevolkingsgroei relatief\n",
    " -  Bevolkingsgroei sinds 1 januari\n",
    " -  Bevolkingsgroei sinds 1 januari relatief\n",
    " -  Bevolking aan het einde van de periode  \n",
    " \n",
    "For this assignment, functions will be written to calculate the average (or mean), median, mode and standard deviation. \n",
    "Afterwards, a trend line will be calculated for one statistic. <br>\n",
    "First, loading in the file using the function written by Arno Kamphuis:"
   ]
  },
  {
   "cell_type": "code",
   "execution_count": 1,
   "metadata": {
    "pycharm": {
     "is_executing": false,
     "metadata": false,
     "name": "#%%\n"
    }
   },
   "outputs": [],
   "source": [
    "import csv\n",
    "filename = 'utrecht.csv'\n",
    "\n",
    "columns = {}\n",
    "rows = []\n",
    "data = {}\n",
    "\n",
    "\n",
    "# hulp functie om te kijken of de waarde een integer is\n",
    "def is_number(s):\n",
    "    try:\n",
    "        int(s)\n",
    "        return True\n",
    "    except ValueError:\n",
    "        return False\n",
    "\n",
    "with open(filename) as csv_file:\n",
    "    csv_reader = csv.reader(csv_file, delimiter=';')\n",
    "    line_count = 0\n",
    "    for row in csv_reader:\n",
    "        # anders reageren als het de eerste regel is, dat zijn namelijk de kolomnamen\n",
    "        if line_count == 0:\n",
    "            line_count += 1\n",
    "            i = 0\n",
    "            for c in row:\n",
    "                columns[c] = i\n",
    "                data[i] = []\n",
    "                i += 1\n",
    "        else:\n",
    "            line_count += 1\n",
    "            # alleen importeren als het maanddata is, niet de cummulatieven over een jaar\n",
    "            if 'JJ00' in row[columns['Perioden']]:\n",
    "                pass\n",
    "            else:\n",
    "                rows.append(row)\n",
    "                i = 0\n",
    "                for c in row:\n",
    "                    if is_number(c):\n",
    "                        data[i].append(int(c))\n",
    "                    else:\n",
    "                        data[i].append(c)\n",
    "                    i = i + 1"
   ]
  },
  {
   "cell_type": "markdown",
   "metadata": {
    "pycharm": {
     "metadata": false,
     "name": "#%% md\n"
    }
   },
   "source": [
    "## Average (Arithmetic mean)\n",
    "The sum of all values divided by the number of values.<br>\n",
    "$\\bar {x} = \\frac {1}{n}\\left(\\sum _{i=1}^{n}{x_{i}}\\right)$"
   ]
  },
  {
   "cell_type": "code",
   "execution_count": 2,
   "metadata": {
    "pycharm": {
     "is_executing": false,
     "metadata": false,
     "name": "#%%\n"
    }
   },
   "outputs": [],
   "source": [
    "def math_average(data_list):\n",
    "    try:\n",
    "        return sum(data_list) / len(data_list)\n",
    "    except TypeError as e:\n",
    "        print(\"Type Error:\", e)\n",
    "        return 0"
   ]
  },
  {
   "cell_type": "markdown",
   "metadata": {
    "pycharm": {
     "metadata": false,
     "name": "#%% md\n"
    }
   },
   "source": [
    "## Median\n",
    "The median is the middle value of a data set, given that the data set has been sorted from lesser to greater.\n",
    "If the data set contains an equal number of values, the median is the mean of the two middle values.  <br><br>\n",
    "If number of values is an odd number: $=\\left(\\dfrac{n+1}{2}\\right)^{th}term$  \n",
    "If number of values is an equal number: $=\\dfrac{\\left(\\dfrac{n}{2}\\right)^{th}term + \n",
    "\\left(\\dfrac{n}{2}+1\\right)^{th} term}{2}$"
   ]
  },
  {
   "cell_type": "code",
   "execution_count": 3,
   "metadata": {
    "pycharm": {
     "is_executing": false,
     "metadata": false,
     "name": "#%%\n"
    }
   },
   "outputs": [],
   "source": [
    "def math_median(data_list):\n",
    "    data_list.sort()\n",
    "    amount_of_items = len(data_list)\n",
    "    if amount_of_items % 2 == 0:\n",
    "        median_ceiling_index = int(amount_of_items / 2)\n",
    "\n",
    "        median_floor_index = int(median_ceiling_index - 1)\n",
    "\n",
    "        return math_average([data_list[median_ceiling_index], data_list[median_floor_index]])\n",
    "\n",
    "    else:\n",
    "        return data_list[int(amount_of_items / 2)]"
   ]
  },
  {
   "cell_type": "markdown",
   "metadata": {
    "pycharm": {
     "metadata": false,
     "name": "#%% md\n"
    }
   },
   "source": [
    "## Mode\n",
    "The mode is the most frequent value in the data set. (I was not able to find a formula for this one)\n"
   ]
  },
  {
   "cell_type": "code",
   "execution_count": 4,
   "metadata": {
    "pycharm": {
     "is_executing": false,
     "metadata": false,
     "name": "#%%\n"
    }
   },
   "outputs": [],
   "source": [
    "def math_mode(data_list):\n",
    "    data_set = set(data_list)\n",
    "    mode, mode_count = 0, 0\n",
    "    for item in data_set:\n",
    "        if mode_count < data_list.count(item):\n",
    "            mode_count = data_list.count(item)\n",
    "            mode = item\n",
    "    return mode\n"
   ]
  },
  {
   "cell_type": "markdown",
   "metadata": {
    "pycharm": {
     "metadata": false,
     "name": "#%% md\n"
    }
   },
   "source": [
    "## Standard deviation\n",
    "Standard deviation is a way to measure how spread out values are in a data set.\n",
    "The full formula for calculating Standard Deviation:\n",
    "$\\sigma = \\sqrt{\\dfrac{1}{N}\\sum _{i=1}^{n}\\left({x_{i}-\\mu}\\right)^{2}}$  \n",
    ">$\\mu \\leftarrow$ average(mean) of all values  \n",
    "$x_{i} \\leftarrow i_{th}$  value \n",
    "\n",
    "In summary, standard deviation sums up for all values $x$, the square of value minus mean. This sum then gets divided by\n",
    "the amount of values."
   ]
  },
  {
   "cell_type": "code",
   "execution_count": 5,
   "metadata": {
    "pycharm": {
     "is_executing": false,
     "metadata": false,
     "name": "#%%\n"
    }
   },
   "outputs": [],
   "source": [
    "import numpy as np\n",
    "def math_standard_deviation(data_list):\n",
    "    mean = math_average(data_list)\n",
    "    minus_mean_squared = 0\n",
    "    for number in data_list:\n",
    "        minus_mean_squared = minus_mean_squared + (number - mean) ** 2\n",
    "    return np.sqrt(minus_mean_squared / len(data_list))"
   ]
  },
  {
   "cell_type": "markdown",
   "metadata": {
    "pycharm": {
     "metadata": false,
     "name": "#%% md\n"
    }
   },
   "source": [
    "### The above mentioned statistical tools utilised on two variables:\n",
    "1. : Vestiging vanuit andere gemeente : Immigration to municipality\n",
    "2. : Vertrek naar andere gemeente : Emigration from municipality\n"
   ]
  },
  {
   "cell_type": "code",
   "execution_count": 6,
   "metadata": {
    "pycharm": {
     "is_executing": false,
     "metadata": false,
     "name": "#%%\n"
    }
   },
   "outputs": [
    {
     "name": "stdout",
     "output_type": "stream",
     "text": [
      "1 | Average: 1628.009708737864 | Median: 1590.0 | Mode: 1574 | Standard Deviation: 349.1845978861125\n",
      "2 | Average: 1465.6456310679612 | Median: 1389.5 | Mode: 1239 | Standard Deviation: 294.23418065112133\n"
     ]
    }
   ],
   "source": [
    "stats = [data[columns[\"VestigingVanuitEenAndereGemeente_5\"]],data[columns[\"VertrekNaarAndereGemeente_8\"]]]\n",
    "counter = 1\n",
    "for stat in stats:\n",
    "    print(counter, \"Average: {}\".format(math_average(stat)), \"Median: {}\".format(math_median(stat)),\n",
    "          \"Mode: {}\".format(math_mode(stat)), \"Standard Deviation: {}\".format(math_standard_deviation(stat)), sep=' | ')\n",
    "    counter += 1"
   ]
  },
  {
   "cell_type": "markdown",
   "metadata": {
    "pycharm": {
     "metadata": false,
     "name": "#%% md\n"
    }
   },
   "source": [
    "As you can see, the average immigration rate is higher than the average emigration rate. We can infer from this that,\n",
    "on average, more people move into rather than out of Utrecht. We can also see that both the median and mode of immigration are\n",
    "larger than those of emigration. From this fact, we can infer that more people moving to Utrecht than leaving it has \n",
    "been true over a relatively long period.\n",
    "## Trend-line and graphing\n",
    "For the purposes of this assignment, linear trend lines will be used.  \n",
    "The formula for a linear trend line:  \n",
    "$y = \\alpha x + \\beta$  \n",
    "<br><br>\n"
   ]
  },
  {
   "cell_type": "markdown",
   "metadata": {
    "pycharm": {
     "metadata": false,
     "name": "#%% md\n"
    }
   },
   "source": [
    "### Calculating the trend-line using Python\n",
    "For the purposes of this script, a function must be defined that can multiply lists with one another. <br>\n",
    "$\\begin{vmatrix} x_{1}\\\\x_{2}\\\\x_{3} \\end{vmatrix} \\cdot \\begin{vmatrix} y_{1}\\\\y_{2}\\\\y_{3} \\end{vmatrix} = \n",
    "\\begin{vmatrix} x_{1} \\times y_{1} \\\\ x_{2} \\times y_{2} \\\\ x_{3} \\times y_{3} \\end{vmatrix}$"
   ]
  },
  {
   "cell_type": "code",
   "execution_count": 7,
   "metadata": {
    "pycharm": {
     "is_executing": false,
     "metadata": false,
     "name": "#%%\n"
    }
   },
   "outputs": [],
   "source": [
    "def math_multiply_list(list1, list2):\n",
    "    output_list = list()\n",
    "    for i in range(len(list1)):\n",
    "        output_list.append(list1[i] * list2[i])\n",
    "    return output_list"
   ]
  },
  {
   "cell_type": "markdown",
   "metadata": {
    "pycharm": {
     "metadata": false,
     "name": "#%% md\n"
    }
   },
   "source": [
    "### Slope $\\alpha$:\n",
    "The mean of the product of all values of \n",
    "$x$ and $y$ is detracted from the product of the mean of $y$ and $x$. This, in turn, gets divided by the mean of $x$ \n",
    "squared minus the mean of ${x_{i}}^{2}$. All of this result in $\\alpha$. <br>\n",
    "$\\alpha = \\dfrac{\\left(\\frac {1}{n}\\left(\\sum _{i=1}^{n}{x_{i}}\\right)\\cdot\n",
    "\\frac {1}{n}\\left(\\sum _{i=1}^{n}{y_{i}}\\right)\\right) - \\frac {1}{n}\\left(\\sum _{i=1}^{n}{x_{i}\\cdot y_{i}}\\right)}\n",
    "{\\frac {1}{n}\\left(\\sum _{i=1}^{n}{x_{i}}\\right)^{2} - \\frac {1}{n}\\left(\\sum _{i=1}^{n}{{x_{i}}^{2}}\\right)}$"
   ]
  },
  {
   "cell_type": "code",
   "execution_count": 8,
   "metadata": {
    "pycharm": {
     "is_executing": false,
     "metadata": false,
     "name": "#%%\n"
    }
   },
   "outputs": [],
   "source": [
    "def trend_slope(x, y):\n",
    "    a = ((math_average(x) * math_average(y)) - math_average(math_multiply_list(x, y))) / \\\n",
    "        (math_average(x) ** 2 - math_average(math_multiply_list(x, x)))\n",
    "    return a"
   ]
  },
  {
   "cell_type": "markdown",
   "metadata": {
    "pycharm": {
     "metadata": false,
     "name": "#%% md\n"
    }
   },
   "source": [
    "### Intersection $\\beta$\n",
    "$\\beta$ is then simply the product of $\\alpha$ and the mean of $x$ detracted from the mean of $y$. <br><br>\n",
    "$\\beta = \\frac {1}{n}\\left(\\sum _{i=1}^{n}{y_{i}}\\right) - \\alpha \\cdot \\frac {1}{n}\\left(\\sum _{i=1}^{n}{x_{i}}\\right)$\n",
    "<br><br>"
   ]
  },
  {
   "cell_type": "code",
   "execution_count": 9,
   "metadata": {
    "pycharm": {
     "is_executing": false,
     "metadata": false,
     "name": "#%%\n"
    }
   },
   "outputs": [],
   "source": [
    "def trend_intercept(data_list, slope, x):\n",
    "    return math_average(data_list) - slope * math_average(x)\n"
   ]
  },
  {
   "cell_type": "markdown",
   "metadata": {
    "pycharm": {
     "metadata": false,
     "name": "#%% md\n"
    }
   },
   "source": [
    "Finally, the trend line function that puts these two together and generates a line for plotting."
   ]
  },
  {
   "cell_type": "code",
   "execution_count": 10,
   "metadata": {
    "pycharm": {
     "is_executing": false,
     "metadata": false,
     "name": "#%%\n"
    }
   },
   "outputs": [],
   "source": [
    "def trendline(data_list, **kwargs):\n",
    "    # Thanks in part to:\n",
    "    # https://math.stackexchange.com/questions/204020/what-is-the-equation-used-to-calculate-a-linear-trendline\n",
    "    # https://pythonprogramming.net/how-to-program-best-fit-line-machine-learning-tutorial/\n",
    "    x = kwargs.get(\"x\")\n",
    "    if not x:\n",
    "        x = list(range(1, len(data_list) + 1))\n",
    "    # print(\"trend\",len(data_list), len(x))\n",
    "    y = data_list\n",
    "    slope = trend_slope(x, y)\n",
    "    intercept = trend_intercept(data_list, slope, x)\n",
    "    if kwargs.get(\"SE\"):\n",
    "        line = [(slope * x_index) + intercept + int(kwargs.get(\"SE\")) for x_index in x]\n",
    "    else:\n",
    "        line = [(slope * x_index) + intercept for x_index in x]\n",
    "\n",
    "    return line"
   ]
  },
  {
   "cell_type": "markdown",
   "metadata": {
    "pycharm": {
     "metadata": false,
     "name": "#%% md\n"
    }
   },
   "source": [
    "Up next is a function to plot the data"
   ]
  },
  {
   "cell_type": "code",
   "execution_count": 11,
   "metadata": {
    "pycharm": {
     "is_executing": false,
     "metadata": false,
     "name": "#%%\n"
    }
   },
   "outputs": [],
   "source": [
    "import matplotlib.pyplot as plt\n",
    "from matplotlib import style\n",
    "def plot_trendline(data_list, x_list, statistic_string, **kwargs):\n",
    "    SD = 2*math_standard_deviation(data_list)\n",
    "    plt.rcParams['figure.figsize'] = [15,5]\n",
    "    style.use('ggplot')\n",
    "    plt.plot(x_list, data_list, 'ro', label=statistic_string)\n",
    "    if kwargs.get(\"split\"):\n",
    "        trendline1 = trendline(data_list[:53])\n",
    "        # print(len(trendline1))\n",
    "        trendline2 = trendline(data_list[53:104], x=range(53,104))\n",
    "        # print(len(trendline2))\n",
    "        trendline3 = trendline(data_list[104:155], x=range(104,155))\n",
    "        # print(len(trendline3))\n",
    "        trendline4 = trendline(data_list[155:207], x=range(155,206))\n",
    "    \n",
    "        plt.plot(x_list[:53], trendline1, linewidth=3.0, color='blue', label=\"Trend line: {}\".format(statistic_string))\n",
    "        plt.plot(x_list[53:104], trendline2, linewidth=3.0, color='blue')\n",
    "        plt.plot(x_list[104:155], trendline3, linewidth=3.0, color='blue')\n",
    "        plt.plot(x_list[155:207], trendline4, linewidth=3.0, color='blue')\n",
    "        \n",
    "        plt.title(\"{} plotted over a period of {} months (m:m:m:m) : 53;51;51;51\".format(statistic_string, len(x_list)))\n",
    "        if kwargs.get(\"comp\"):\n",
    "            # Small something I wrote to see if a trend line composed of trend lines equals the original trend line\n",
    "            # Unused in Jupyter Notebook\n",
    "            trendline_full = list()\n",
    "            trendline_full.extend(trendline1)\n",
    "            trendline_full.extend(trendline2)\n",
    "            trendline_full.extend(trendline3)\n",
    "            trendline_full.extend(trendline4)\n",
    "            # print(len(trendline_full), len(x_list))\n",
    "            trendline_full = trendline(trendline_full)\n",
    "            plt.plot(x_list, trendline_full, linewidth=3.0, label=\"Trend line: {}\".format(statistic_string))\n",
    "            \n",
    "        \n",
    "        \n",
    "    else:\n",
    "        plt.title(\"{} plotted over a period of {} months\".format(statistic_string, len(x_list)))\n",
    "        trendline_full = trendline(data_list)\n",
    "        plt.plot(x_list, trendline_full, linewidth=3.0, color='blue', label=\"Trend line: {}\".format(statistic_string))\n",
    "        if SD:\n",
    "            trendline_small = trendline(data_list, SE=(-SD))\n",
    "            trendline_big = trendline(data_list, SE=SD)\n",
    "            plt.plot(x_list, trendline_big, linewidth=3.0, color='green', label=\"Trend line $+2 \\sigma$\")\n",
    "            plt.plot(x_list, trendline_small, linewidth=3.0, color='green', label=\"Trend line $-2 \\sigma$\")\n",
    "        plt.legend()\n",
    "    plt.xlabel(\"Time (months)\")\n",
    "    plt.ylabel(statistic_string)\n",
    "    plt.xticks(data[columns['Perioden']][0::12])\n",
    "    plt.xticks(rotation=90)\n",
    "    plt.show()"
   ]
  },
  {
   "cell_type": "markdown",
   "metadata": {
    "pycharm": {
     "is_executing": false,
     "metadata": false,
     "name": "#%% md\n"
    }
   },
   "source": [
    "In the first graph there are four trend lines, the first calculated over 53 months, the next three over 51 months. A\n",
    " decline in 'overledenen' (deaths) can be witnessed per period of time. We can see, however, that in 2015 there was a \n",
    " small increase in mortality rate, which was quickly corrected in the coming months."
   ]
  },
  {
   "cell_type": "code",
   "execution_count": 12,
   "metadata": {
    "pycharm": {
     "is_executing": false,
     "metadata": false,
     "name": "#%%\n"
    }
   },
   "outputs": [
    {
     "data": {
      "image/png": "[encoded data removed]",
      "text/plain": [
       "<Figure size 1080x360 with 1 Axes>"
      ]
     },
     "metadata": {},
     "output_type": "display_data"
    }
   ],
   "source": [
    "%matplotlib inline\n",
    "plot_trendline(data[columns['Overledenen_3']], data[columns['Perioden']], 'Overledenen', split=True)"
   ]
  },
  {
   "cell_type": "markdown",
   "metadata": {
    "pycharm": {
     "metadata": false,
     "name": "#%% md\n"
    }
   },
   "source": [
    "The second plot is a trend line over the full 206 month period. It is accompanied by two green lines. The two green \n",
    "lines are the trend line plus or minus 2 times the standard deviation of the dataset, respectively. 95% of data in the\n",
    "dataset falls between the green lines.    <br> In both plots, we can see a steady, albeit slow, decline in mortality \n",
    "  rates.<br><br>\n",
    "The decline in 'overledenen' means the mortality\n",
    "rate has decreased. This could be attributed to a myriad of reasons, such as better health care or relocation of the \n",
    "elderly to other municipalities.\n"
   ]
  },
  {
   "cell_type": "code",
   "execution_count": 13,
   "metadata": {
    "pycharm": {
     "is_executing": false,
     "metadata": false,
     "name": "#%% \n"
    }
   },
   "outputs": [
    {
     "data": {
      "image/png": "[encoded data removed]",
      "text/plain": [
       "<Figure size 1080x360 with 1 Axes>"
      ]
     },
     "metadata": {},
     "output_type": "display_data"
    }
   ],
   "source": [
    "%matplotlib inline\n",
    "plot_trendline(data[columns['Overledenen_3']], data[columns['Perioden']], 'Overledenen')\n",
    "\n"
   ]
  }
 ],
 "metadata": {
  "kernelspec": {
   "display_name": "Python 3",
   "language": "python",
   "name": "python3"
  },
  "language_info": {
   "codemirror_mode": {
    "name": "ipython",
    "version": 3
   },
   "file_extension": ".py",
   "mimetype": "text/x-python",
   "name": "python",
   "nbconvert_exporter": "python",
   "pygments_lexer": "ipython3",
   "version": "3.7.3"
  }
 },
 "nbformat": 4,
 "nbformat_minor": 1
}
