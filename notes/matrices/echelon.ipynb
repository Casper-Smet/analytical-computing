{
  "cells": [
    {
      "cell_type": "markdown",
      "metadata": {
        "collapsed": true,
        "pycharm": {
          "name": "#%% md\n"
        }
      },
      "source": "# We have finally reached echelon\nAlso known as Reduced Row Echelon Form (rref(A))\u003cbr\u003e\n$x_{1}+2x_{2}+x_{3}+x_{4} \u003d 7$\u003cbr\u003e\n$x_{1}+2x_{2}+2x_{3}-x_{4} \u003d 12$\u003cbr\u003e\n$2x_{1}+4x_{2}+6x_{4} \u003d 4$\u003cbr\u003e\n$A\u003d\\left[\\begin{array}{cccc|c}\n1\u00262\u00261\u00261\u00267\\\\\n1\u00262\u00262\u0026-1\u002612\\\\\n2\u00264\u00260\u00266\u00264\n\\end{array}\\right] \\Rightarrow \n\\left[\\begin{array}{cccc|c}\n1\u00262\u00261\u00261\u00267\\\\\n0\u00260\u0026-1\u00262\u0026-5\\\\\n0\u00260\u0026-2\u00264\u0026-10\n\\end{array}\\right] \\Rightarrow \n\\left[\\begin{array}{cccc|c}\n1\u00262\u00261\u00261\u00267\\\\\n0\u00260\u00261\u0026-2\u00265\\\\\n0\u00260\u0026-2\u00264\u0026-10\n\\end{array}\\right]$\u003cbr\u003e\n\n$\u003d\\left[\\begin{array}{cccc|c}\n1\u00262\u00260\u00263\u00262\\\\\n0\u00260\u00261\u0026-2\u00265\\\\\n0\u00260\u00260\u00260\u00260\n\\end{array}\\right] \u003d $ __rref(A)__\u003cbr\u003e\u003cbr\u003e\n$x_{1}+2x_{2}\u003d3x_{4}\u003d2$\u003cbr\u003e\n$x_{3} - 2x_{4} \u003d 5$\u003cbr\u003e\n$x_{1} \u003d 2 - 2x_{2} - 3x_{4}$\u003cbr\u003e\n$x_{3}\u003d5+2x_{4}$\u003cbr\u003e\n$\\begin{bmatrix} x_{1}\\\\x_{2}\\\\x_{3}\\\\x_{4}\\end{bmatrix}\u003d \\begin{bmatrix} 2 \\\\ 0\\\\ 5 \\\\0 \\end{bmatrix} + \nx_{2}\\begin{bmatrix} -2\\\\1\\\\0\\\\0\\end{bmatrix} + x_{4} \\begin{bmatrix} -3\\\\0\\\\ 2 \\\\ 1 \\end{bmatrix}$\u003cbr\u003e\n"
    },
    {
      "cell_type": "markdown",
      "source": "# Examples\n$x + y + z \u003d 3$\u003cbr\u003e\n$x + 2y + 3z \u003d 0$\u003cbr\u003e\n$x + 3y + 4z \u003d -2$\u003cbr\u003e\n$\\left[\\begin{array}{ccc|c}\n1\u00261\u00261\u00263 \\\\\n1\u00262\u00263\u00260 \\\\\n1\u00263\u00264\u0026-2\n\\end{array}\\right] \u003d \n\\left[\\begin{array}{ccc|c}\n1\u00261\u00261\u00263 \\\\\n0\u00261\u00262\u0026-3 \\\\\n0\u00262\u00263\u0026-5\n\\end{array}\\right] \u003d\n\\left[\\begin{array}{ccc|c}\n1\u00260\u0026-1\u00266 \\\\\n0\u00261\u00262\u0026-3 \\\\\n0\u00260\u0026-1\u00261\n\\end{array}\\right] \u003d \n\\left[\\begin{array}{ccc|c}\n1\u00260\u00260   \u00265 \\\\\n0\u00261\u00260\u0026-1 \\\\\n0\u00260\u00261\u0026-1\n\\end{array}\\right]\n$ \u003cbr\u003e\n$x\u003d5,y\u003d-1,z\u003d-1$",
      "metadata": {
        "pycharm": {
          "metadata": false,
          "name": "#%% md\n",
          "is_executing": false
        }
      }
    },
    {
      "cell_type": "markdown",
      "source": "\n# Proving unsolvables\n$\\left[\\begin{array}{cccc|c}\n1\u00262\u00261\u00261\u00268\\\\\n1\u00262\u00262\u0026-1\u002612\\\\\n2\u00264\u00260\u00266\u00264\n\\end{array}\\right] \u003d\n\\left[\\begin{array}{cccc|c}\n1\u00262\u00261\u00261\u00268\\\\\n0\u00260\u00261\u0026-2\u00264\\\\\n0\u00260\u0026-2\u00264\u0026-12\n\\end{array}\\right] \u003d\n\\left[\\begin{array}{cccc|c}\n1\u00262\u00260\u00263\u00264\\\\\n0\u00260\u00261\u0026-2\u00264\\\\\n0\u00260\u00260\u00260\u0026-4\n\\end{array}\\right]$ \u003cbr\u003e\nThe bottom row makes this equation impossible, 0 can never be 4. If 0 is equal to something, the equation is unsolvable.",
      "metadata": {
        "pycharm": {
          "metadata": false,
          "name": "#%% md\n"
        }
      }
    },
    {
      "cell_type": "code",
      "execution_count": 0,
      "outputs": [],
      "source": "\n",
      "metadata": {
        "pycharm": {
          "metadata": false,
          "name": "#%%\n",
          "is_executing": false
        }
      }
    }
  ],
  "metadata": {
    "language_info": {
      "codemirror_mode": {
        "name": "ipython",
        "version": 2
      },
      "file_extension": ".py",
      "mimetype": "text/x-python",
      "name": "python",
      "nbconvert_exporter": "python",
      "pygments_lexer": "ipython2",
      "version": "2.7.6"
    },
    "kernelspec": {
      "name": "python3",
      "language": "python",
      "display_name": "Python 3"
    }
  },
  "nbformat": 4,
  "nbformat_minor": 0
}