{
  "cells": [
    {
      "cell_type": "markdown",
      "source": "$A\\vec{x} \u003d \\left[\\begin{array}\naa_{11}\u0026a_{12}\u0026...\u0026a_{1n}\\\\\na_{21}\u0026a_{22}\u0026...\u0026a_{2n}\\\\\n\\cdot\u0026\u0026\\cdot\\\\\n\\cdot\u0026\u0026\u0026\\cdot\\\\\na_{mn}\u0026 \u0026 \u0026 a_{mn}\n\\end{array}\\right]\n\\left[\\begin{array}\nxx_{1}\\\\\nx_{2}\\\\\n\\cdot\\\\\n\\cdot\\\\\nx_{n}\\\\\n\\end{array}\\right]$\n",
      "metadata": {
        "pycharm": {
          "metadata": false,
          "name": "#%% md\n"
        }
      }
    }
  ],
  "metadata": {
    "language_info": {
      "codemirror_mode": {
        "name": "ipython",
        "version": 2
      },
      "file_extension": ".py",
      "mimetype": "text/x-python",
      "name": "python",
      "nbconvert_exporter": "python",
      "pygments_lexer": "ipython2",
      "version": "2.7.6"
    },
    "kernelspec": {
      "name": "python3",
      "language": "python",
      "display_name": "Python 3"
    },
    "stem_cell": {
      "cell_type": "raw",
      "source": "",
      "metadata": {
        "pycharm": {
          "metadata": false
        }
      }
    }
  },
  "nbformat": 4,
  "nbformat_minor": 0
}