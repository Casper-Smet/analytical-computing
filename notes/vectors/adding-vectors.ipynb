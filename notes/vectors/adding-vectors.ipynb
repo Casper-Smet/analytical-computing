{
  "cells": [
    {
      "cell_type": "markdown",
      "metadata": {
        "collapsed": true,
        "pycharm": {
          "name": "#%% md\n"
        }
      },
      "source": "# Adding vectors \n(see below for multiplying vectors)\u003cbr\u003e\nAdding vectors is a relatively simply practice. \nSimply add the corresponding values, with the \nresult being the new magnitude for a certain direction ($x^{1}, x^{2},...,x^{n} \u003d x^{v}$) \n\u003cbr\u003e (corresponding values can be the unit vectors that make up each vector: $ x \u003d \\hat{\\imath},   y \u003d \\hat{\\jmath}$)\n\n\u003cbr\u003e\n"
    },
    {
      "cell_type": "markdown",
      "metadata": {
        "pycharm": {
          "metadata": false
        }
      },
      "source": [
        "\n",
        "Example: \u003cbr\u003e\n",
        "${\\displaystyle {\\vec {a}}}\u003d\\begin{equation*} \\begin{vmatrix}\n",
        "7\\\\\n",
        "2\n",
        "\\end{vmatrix}\n",
        "\\end{equation*}$ \u003cbr\u003e\n",
        "\n",
        "${\\displaystyle {\\vec {b}}}\u003d\\begin{equation*} \\begin{vmatrix}\n",
        "-4\\\\\n",
        "4\n",
        "\\end{vmatrix}\n",
        "\\end{equation*}$ \u003cbr\u003e\n",
        "${\\displaystyle {\\vec {c}}} \u003d {\\vec {a}} + {\\vec {b}}$\n",
        "\u003cbr\u003e\n",
        "\u003e${\\displaystyle {\\vec {c}}} \u003d \\begin{equation*} \\begin{vmatrix}\n",
        "(7) + (-3)\\\\\n",
        "(2) + (4)\n",
        "\\end{vmatrix}\n",
        "\\end{equation*}$ \u003cbr\u003e\n",
        "\n"
      ]
    },
    {
      "cell_type": "markdown",
      "metadata": {
        "pycharm": {
          "metadata": false
        }
      },
      "source": [
        "${\\displaystyle {\\vec {c}}} \u003d \\begin{equation*} \\begin{vmatrix}\n",
        "4\\\\\n",
        "6\n",
        "\\end{vmatrix}\n",
        "\\end{equation*}$ \u003cbr\u003e\n",
        "Next up, a visual representation of this:"
      ]
    },
    {
      "cell_type": "code",
      "execution_count": 1,
      "metadata": {
        "pycharm": {
          "is_executing": false,
          "metadata": false,
          "name": "#%%\n"
        }
      },
      "outputs": [
        {
          "data": {
            "text/plain": "\u003cFigure size 432x288 with 1 Axes\u003e",
            "image/png": "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\u003d\u003d\n"
          },
          "metadata": {
            "needs_background": "light"
          },
          "output_type": "display_data"
        }
      ],
      "source": [
        "%matplotlib inline\n",
        "import matplotlib.pyplot as plt\n",
        "import numpy as np\n",
        "vectors \u003d np.array([[7,2],[-3,4], [4,6]])\n",
        "origin \u003d [0], [0]\n",
        "plt.quiver(*origin, vectors[:,0], vectors[:,1], color\u003d[\u0027r\u0027,\u0027b\u0027,\u0027g\u0027], scale\u003d21)\n",
        "plt.show()"
      ]
    },
    {
      "cell_type": "markdown",
      "metadata": {
        "pycharm": {
          "metadata": false,
          "name": "#%% md\n"
        }
      },
      "source": [
        "The red vector being ${\\displaystyle {\\vec {a}}}$, the blue vector being ${\\displaystyle {\\vec {b}}}$ \n",
        "and the green vector being the addition of these two vectors, ${\\displaystyle {\\vec {c}}}$ \u003cbr\u003e\n",
        "If one were to start the red vector(${\\displaystyle {\\vec {a}}}$)\n",
        " where the blue vector(${\\displaystyle {\\vec {b}}}$) ends, the end of the red vector(${\\displaystyle {\\vec {a}}}$)\n",
        "  would touch the end of the green vector(${\\displaystyle {\\vec {c}}}$). \n",
        "  If one were to start the blue vector(${\\displaystyle {\\vec {b}}}$) where the red vector ends, likewise. \u003cbr\u003e\u003cbr\u003e\u003cbr\u003e"
      ]
    },
    {
      "cell_type": "markdown",
      "metadata": {
        "pycharm": {
          "metadata": false,
          "name": "#%% md\n"
        }
      },
      "source": "# Multiplying vectors\nMultiplying vectors is rather similar in logic to adding vectors. Simply multiply the corresponding values with a given\nvalue. For example: \u003cbr\u003e\n${{\\vec {a}}}\u003d\\begin{equation*} \\begin{vmatrix}\n7\\\\\n2\n\\end{vmatrix}\n\\end{equation*} $\n\u003cbr\u003e\n${{\\vec {b}}}\u003d 5 \\times$$ {{\\vec {a}}}$\n\u003cbr\u003e\n${{\\vec {b}}}\u003d\\begin{equation*} 5 \\times \\begin{vmatrix}\n7\\\\\n2\n\\end{vmatrix}\n \u003d \\begin{vmatrix}\n  35\\\\\n  10\n  \\end{vmatrix}\n  \\end{equation*}$\n\u003cbr\u003e\nThe resulting vector has the same direction as the original vector, with only the magnitude increasing five fold."
    },
    {
      "cell_type": "markdown",
      "source": "# Unit vectors\nUnit vectors are one dimensional vectors with a magnitude of 1. \u003cbr\u003e\n$ \\hat{\\imath} \u003d \\begin{equation*} \\begin{vmatrix}\n1\\\\\n0\n\\end{vmatrix}\n\\end{equation*},$\n $\\hat{\\jmath} \u003d \\begin{equation*} \\begin{vmatrix} \n0\\\\ \n1 \n\\end{vmatrix} \\end{equation*} $\n\n",
      "metadata": {
        "pycharm": {
          "metadata": false,
          "name": "#%% md\n"
        }
      }
    }
  ],
  "metadata": {
    "kernelspec": {
      "display_name": "Python 3",
      "language": "python",
      "name": "python3"
    },
    "language_info": {
      "codemirror_mode": {
        "name": "ipython",
        "version": 3
      },
      "file_extension": ".py",
      "mimetype": "text/x-python",
      "name": "python",
      "nbconvert_exporter": "python",
      "pygments_lexer": "ipython3",
      "version": "3.7.3"
    }
  },
  "nbformat": 4,
  "nbformat_minor": 1
}