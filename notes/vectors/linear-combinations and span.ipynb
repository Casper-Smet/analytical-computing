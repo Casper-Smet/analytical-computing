{
  "cells": [
    {
      "cell_type": "markdown",
      "metadata": {
        "collapsed": true,
        "pycharm": {
          "name": "#%% md\n"
        }
      },
      "source": "# Span\nAll linear combinations of a set of vectors, is called \u0027Span\u0027. \u003cbr\u003e\nA span from one vector is simply a line moving in one dimension. \u003cbr\u003e\n$\\hat{\\imath} \u003d \\begin{equation*} \\begin{bmatrix} 1\\\\0 \\end{bmatrix} \\end{equation*}$\n\n$\\hat{\\jmath} \u003d \\begin{equation*} \\begin{bmatrix} 0\\\\1 \\end{bmatrix} \\end{equation*}$\n\u003cbr\u003e"
    },
    {
      "cell_type": "code",
      "execution_count": 2,
      "metadata": {
        "pycharm": {
          "is_executing": false,
          "metadata": false,
          "name": "#%%\n"
        }
      },
      "outputs": [
        {
          "data": {
            "text/plain": "\u003cFigure size 432x288 with 1 Axes\u003e",
            "image/png": "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\u003d\u003d\n"
          },
          "metadata": {
            "needs_background": "light"
          },
          "output_type": "display_data"
        }
      ],
      "source": "%matplotlib inline\nimport matplotlib.pyplot as plt\nimport numpy as np\norigin \u003d [0], [0]\nvectors \u003d np.array([[1,0],[0,1]])\nplt.quiver(*origin, vectors[:,0], vectors[:,1], color\u003d[\u0027m\u0027,\u0027c\u0027], scale\u003d5)\nplt.show()"
    },
    {
      "cell_type": "markdown",
      "metadata": {
        "pycharm": {
          "metadata": false,
          "name": "#%% md\n"
        }
      },
      "source": "\nExamples: \u003cbr\u003e\u003cbr\u003e\n$Span(\\hat{\\jmath},\\hat{\\imath}) \u003d R^{2}$ \u003cbr\u003e\n$\\vec{r} \u003d \\hat{\\jmath} + \\hat{\\imath} \u003d\\begin{equation*} \\begin{bmatrix} 1\\\\1 \\end{bmatrix} \\end{equation*}$ \u003cbr\u003e\n$\\vec{b} \u003d \\hat{\\jmath} - \\hat{\\imath} \u003d \\begin{equation*} \\begin{bmatrix} -1\\\\1 \\end{bmatrix} \\end{equation*}$ \u003cbr\u003e\n$\\vec{g} \u003d 5 \\times \\hat{\\jmath} \u003d \\begin{equation*} \\begin{bmatrix} 0\\\\5 \\end{bmatrix} \\end{equation*}$\n"
    },
    {
      "cell_type": "code",
      "execution_count": 8,
      "metadata": {
        "pycharm": {
          "is_executing": false,
          "metadata": false,
          "name": "#%%\n"
        }
      },
      "outputs": [
        {
          "data": {
            "image/png": "[encoded data removed]",
            "text/plain": [
              "\u003cFigure size 432x288 with 1 Axes\u003e"
            ]
          },
          "metadata": {
            "needs_background": "light"
          },
          "output_type": "display_data"
        }
      ],
      "source": [
        "%matplotlib inline\n",
        "vectors \u003d np.array([[1,1],[-1,1], [0,2]])\n",
        "plt.quiver(*origin, vectors[:,0], vectors[:,1], color\u003d[\u0027r\u0027,\u0027b\u0027,\u0027g\u0027], scale\u003d7)\n",
        "plt.show()\n"
      ]
    },
    {
      "cell_type": "markdown",
      "metadata": {
        "pycharm": {
          "metadata": false,
          "name": "#%% md\n"
        }
      },
      "source": "# Linearly (in)dependence\nWhen two lines are linearly dependent, they are essentially transformations of one another. This is the result of taking\na vector and multiplying it with a scalar (see example $\\vec{g}$ in **Span**). \u003cbr\u003e\nWhen vectors are linearly dependent, their span is, like with the span from one vector, a line moving in one dimension.\n\u003cbr\u003e\nIf another vector is linearly dependent on two (or more) other vectors inside of the set, the **span** does not change.\n\u003cbr\u003e"
    },
    {
      "cell_type": "markdown",
      "source": "$ span(\\begin{equation*} \\begin{bmatrix} 3\\\\4 \\end{bmatrix},  \n \\begin{bmatrix} 4\\\\3 \\end{bmatrix} ) \u003d \n span( \\begin{bmatrix} 3\\\\4 \\end{bmatrix}, \n \\begin{bmatrix} 4\\\\3 \\end{bmatrix} ,\n \\begin{bmatrix} 7\\\\7 \\end{bmatrix} \\end{equation*})$  \u003cbr\u003e\u003cbr\u003e",
      "metadata": {
        "pycharm": {
          "metadata": false,
          "name": "#%% md\n"
        }
      }
    },
    {
      "cell_type": "markdown",
      "source": "$s \u003d \\{v_{1}, v_{2}, v_{3}...,v_{n}\\}$ \u003cbr\u003e\n\nLinearly dependent $\\iff c_{1}v_{1}+c_{2}v_{2}+...c_{n}v_{2}\u003d0\u003d \n\\begin{equation*} \\begin{bmatrix} 0\\\\.\\\\.\\\\0 \\end{bmatrix} \\end{equation*}$ \u003cbr\u003e",
      "metadata": {
        "pycharm": {
          "metadata": false,
          "name": "#%% md\n"
        }
      }
    },
    {
      "cell_type": "markdown",
      "source": "At least 1 *c* not zero. \u003cbr\u003e Example:",
      "metadata": {
        "pycharm": {
          "metadata": false,
          "name": "#%% md\n"
        }
      }
    },
    {
      "cell_type": "markdown",
      "source": "$ \\begin{equation*} \\{\\begin{bmatrix}",
      "metadata": {
        "pycharm": {
          "metadata": false,
          "name": "#%% md\n"
        }
      }
    }
  ],
  "metadata": {
    "kernelspec": {
      "display_name": "Python 3",
      "language": "python",
      "name": "python3"
    },
    "language_info": {
      "codemirror_mode": {
        "name": "ipython",
        "version": 3
      },
      "file_extension": ".py",
      "mimetype": "text/x-python",
      "name": "python",
      "nbconvert_exporter": "python",
      "pygments_lexer": "ipython3",
      "version": "3.7.3"
    }
  },
  "nbformat": 4,
  "nbformat_minor": 1
}