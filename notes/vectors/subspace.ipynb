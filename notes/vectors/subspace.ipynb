{
  "cells": [
    {
      "cell_type": "markdown",
      "metadata": {
        "collapsed": true,
        "pycharm": {
          "name": "#%% md\n"
        }
      },
      "source": "# Linear subspaces\nA subset of $R^{n}$ can bea subspace. \u003cbr\u003e\n$V \\subset R^{n}$ \u003cbr\u003e\n$\\vec{x} \\in V \\rightarrow c\\vec{x} \\in V  $\u003cbr\u003e\n$\\vec{a}, \\vec{b} \\in V \\rightarrow \\vec{a} + \\vec{b} \\in V$"
    },
    {
      "cell_type": "code",
      "execution_count": 9,
      "outputs": [
        {
          "data": {
            "text/plain": "\u003cFigure size 432x288 with 0 Axes\u003e"
          },
          "metadata": {},
          "output_type": "execute_result",
          "execution_count": 9
        },
        {
          "data": {
            "text/plain": "\u003cFigure size 432x288 with 1 Axes\u003e",
            "image/png": "[encoded data removed]"
          },
          "metadata": {},
          "output_type": "display_data"
        },
        {
          "data": {
            "text/plain": "\u003cFigure size 432x288 with 0 Axes\u003e"
          },
          "metadata": {},
          "output_type": "display_data"
        }
      ],
      "source": "%matplotlib inline\nfrom matplotlib_venn import venn2\nimport matplotlib.pyplot as plt\nrealspace_n \u003d set([\u0027a\u0027, \u0027b\u0027, \u0027c\u0027, \u0027d\u0027, \u0027e\u0027, \u0027f\u0027])\nsubspace \u003d set([\u0027a\u0027, \u0027b\u0027])\nv \u003d venn2([realspace_n, subspace], [r\u0027$R^n$\u0027, \u0027V\u0027])\nplt.figure()",
      "metadata": {
        "pycharm": {
          "metadata": false,
          "name": "#%%\n",
          "is_executing": false
        }
      }
    },
    {
      "cell_type": "markdown",
      "source": "A span of any set of linearly independent vectors is a subspace. Because of this, if you wanted to initialize a subspace, you could do \nthe following: \u003cbr\u003e\n$V \u003d span(\\vec{v_{1}}, \\vec{v_{2}},...,\\vec{v_{n}})$ \u003cbr\u003e\nS(pan) is a basis for V as long as S is linearly indepenent.\n\n\n",
      "metadata": {
        "pycharm": {
          "metadata": false,
          "name": "#%% md\n"
        }
      }
    }
  ],
  "metadata": {
    "language_info": {
      "codemirror_mode": {
        "name": "ipython",
        "version": 2
      },
      "file_extension": ".py",
      "mimetype": "text/x-python",
      "name": "python",
      "nbconvert_exporter": "python",
      "pygments_lexer": "ipython2",
      "version": "2.7.6"
    },
    "kernelspec": {
      "name": "python3",
      "language": "python",
      "display_name": "Python 3"
    }
  },
  "nbformat": 4,
  "nbformat_minor": 0
}