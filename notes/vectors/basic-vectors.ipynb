{
 "cells": [
  {
   "cell_type": "markdown",
   "metadata": {
    "pycharm": {
     "metadata": false,
     "name": "#%% md\n"
    }
   },
   "source": [
    "# Basic vectors:\n"
   ]
  },
  {
   "cell_type": "markdown",
   "metadata": {
    "pycharm": {
     "metadata": false
    }
   },
   "source": [
    "Vector <-- magnitude & direction.<br> \n",
    "Magnitude <-- 5 km/h for example (speed without velocity is scalar, not a vector. <br>\n",
    "Direction <-- Any direction in any set of dimensions (If given a static point like the North Pole, East is an example) "
   ]
  },
  {
   "cell_type": "markdown",
   "metadata": {
    "pycharm": {
     "metadata": false,
     "name": "#%% md\n"
    }
   },
   "source": [
    "Next up is an example of a vector:"
   ]
  },
  {
   "cell_type": "code",
   "execution_count": 5,
   "metadata": {
    "pycharm": {
     "is_executing": false,
     "metadata": false,
     "name": "#%%\n"
    }
   },
   "outputs": [
    {
     "data": {
      "image/png": "[encoded data removed]",
      "text/plain": [
       "<Figure size 432x288 with 1 Axes>"
      ]
     },
     "metadata": {
      "needs_background": "light"
     },
     "output_type": "display_data"
    }
   ],
   "source": [
    "%matplotlib inline\n",
    "import matplotlib.pyplot as plt\n",
    "import numpy as np\n",
    "vectors = np.array([[6,6],[6,0], [0,-6]])\n",
    "origin = [0], [0]\n",
    "plt.quiver(*origin, vectors[:,0], vectors[:,1], color=['r','b','g'], scale=21)\n",
    "plt.show()\n"
   ]
  },
  {
   "cell_type": "markdown",
   "metadata": {
    "pycharm": {
     "metadata": false,
     "name": "#%% md\n"
    }
   },
   "source": [
    "Vectors are written down using real coordinate space. <br>\n",
    "Real coordinate space <-- all possible real-valued '2-tuple's. <-- **$R^{2}$**<br>\n",
    "In the case of two dimensions, you use a '2-tuple'.\n",
    "\n",
    " ${\\displaystyle {\\vec {v}}} =(x,y)=\\begin{equation*} \\begin{vmatrix}\n",
    "x\\\\\n",
    "y\n",
    "\\end{vmatrix}\n",
    "\\end{equation*}$\n",
    "<br>\n"
   ]
  },
  {
   "cell_type": "markdown",
   "metadata": {
    "pycharm": {
     "metadata": false,
     "name": "#%% md\n"
    }
   },
   "source": [
    "So, if we take the blue vector as an example, the vector would be\n",
    "notated as such: \n",
    "${\\displaystyle {\\vec {b}}}=\\begin{equation*} \\begin{vmatrix}\n",
    "6\\\\\n",
    "0\n",
    "\\end{vmatrix}\n",
    "\\end{equation*}$\n",
    "\n"
   ]
  },
  {
   "cell_type": "markdown",
   "metadata": {
    "pycharm": {
     "metadata": false,
     "name": "#%% md\n"
    }
   },
   "source": [
    "-And perhaps even more interesting, the red vector:\n",
    "${\\displaystyle {\\vec {r}}}=\\begin{equation*} \\begin{vmatrix}\n",
    "6\\\\\n",
    "6\n",
    "\\end{vmatrix}\n",
    "\\end{equation*}$\n"
   ]
  },
  {
   "cell_type": "markdown",
   "metadata": {
    "pycharm": {
     "metadata": false,
     "name": "#%% md\n"
    }
   },
   "source": [
    "One important thing to note is that the origin of the vector doesn't\n",
    "necessarily matter. If two vectors move in the same direction with the same\n",
    "magnitude, they are the same. For example:\n"
   ]
  },
  {
   "cell_type": "code",
   "execution_count": 10,
   "metadata": {
    "pycharm": {
     "is_executing": false,
     "metadata": false,
     "name": "#%%\n"
    }
   },
   "outputs": [
    {
     "data": {
      "image/png": "[encoded data removed]",
      "text/plain": [
       "<Figure size 432x288 with 1 Axes>"
      ]
     },
     "metadata": {
      "needs_background": "light"
     },
     "output_type": "display_data"
    }
   ],
   "source": [
    "%matplotlib inline\n",
    "origin = [0.5], [0.5]\n",
    "two_vectors = np.array([[1,2], [1,2]])\n",
    "origin_two = [0.5], [1]\n",
    "plt.quiver(*origin, two_vectors[0][0], two_vectors[0][1], color=['c'], scale = 4)\n",
    "plt.quiver(*origin_two, two_vectors[1][0], two_vectors[1][1], color=['m'], scale = 4)\n",
    "plt.axis([0.4, 0.8, 0, 3])\n",
    "plt.show()\n"
   ]
  },
  {
   "cell_type": "markdown",
   "metadata": {
    "pycharm": {
     "metadata": false,
     "name": "#%% md\n"
    }
   },
   "source": [
    "Both the magenta and cyan lines follow the following formula:\n",
    "${\\displaystyle {\\vec {v}}}=\\begin{equation*} \\begin{vmatrix}\n",
    "2\\\\\n",
    "1\n",
    "\\end{vmatrix}\n",
    "\\end{equation*}$ <br>"
   ]
  },
  {
   "cell_type": "markdown",
   "metadata": {
    "pycharm": {
     "metadata": false,
     "name": "#%% md\n"
    }
   },
   "source": [
    "Their origin points, however, differ. The magenta vector starts at \n",
    "(0.5, 1), whereas the cyan vector starts at (0.5, 0,5).<br>\n",
    "To reiterate: when it comes to differentiating two vectors, the origin point is meaningless.\n",
    "Only the magnitude and direction are of importance.\n"
   ]
  },
  {
   "cell_type": "markdown",
   "metadata": {
    "pycharm": {
     "metadata": false,
     "name": "#%% md\n"
    }
   },
   "source": [
    "## More than two dimensions\n",
    "Real space can be more than just 2 dimensions, in fact it can be as many dimensions as you would like it to be! <br>\n",
    "For **$R^{3}$** the vector notation would go something like this:\n",
    "${\\displaystyle {\\vec {v}}}=\\begin{equation*} \\begin{vmatrix}\n",
    "x\\\\\n",
    "y\\\\\n",
    "z\n",
    "\\end{vmatrix}\n",
    "\\end{equation*}$ <br>\n",
    "This is hypothetically infinitely expandable. Because of this, real space is also often written like this: **$R^{n}$**\n",
    "\n"
   ]
  }
 ],
 "metadata": {
  "kernelspec": {
   "display_name": "Python 3",
   "language": "python",
   "name": "python3"
  },
  "language_info": {
   "codemirror_mode": {
    "name": "ipython",
    "version": 3
   },
   "file_extension": ".py",
   "mimetype": "text/x-python",
   "name": "python",
   "nbconvert_exporter": "python",
   "pygments_lexer": "ipython3",
   "version": "3.7.3"
  },
  "stem_cell": {
   "cell_type": "raw",
   "metadata": {
    "pycharm": {
     "metadata": false
    }
   },
   "source": ""
  }
 },
 "nbformat": 4,
 "nbformat_minor": 1
}
