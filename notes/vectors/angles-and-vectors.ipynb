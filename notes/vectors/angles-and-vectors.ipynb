{
  "cells": [
    {
      "cell_type": "markdown",
      "metadata": {
        "collapsed": true,
        "pycharm": {
          "name": "#%% md\n"
        }
      },
      "source": "# Scalar units:\n$||\\vec{a}|| \u003d $ length $\\Rightarrow$ Scalar \u003cbr\u003e\nThe angle between vectors is also a scalar.\n# Angle between vectors:\n$\\vec{a}, \\vec{b} \\in R^{n}$, nonzero \u003cbr\u003e"
    },
    {
      "cell_type": "code",
      "execution_count": 24,
      "outputs": [
        {
          "name": "stderr",
          "text": [
            "No handles with labels found to put in legend.\n"
          ],
          "output_type": "stream"
        },
        {
          "data": {
            "text/plain": "[\u003cmatplotlib.lines.Line2D at 0x24616f798d0\u003e,\n \u003cmatplotlib.lines.Line2D at 0x24616f79da0\u003e]"
          },
          "metadata": {},
          "output_type": "execute_result",
          "execution_count": 24
        },
        {
          "data": {
            "text/plain": "\u003cFigure size 432x288 with 1 Axes\u003e",
            "image/png": "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\u003d\n"
          },
          "metadata": {
            "needs_background": "light"
          },
          "output_type": "display_data"
        }
      ],
      "source": "%matplotlib inline\nimport matplotlib.pyplot as plt\nplt.axvline(x\u003d4, c\u003d\u0027y\u0027, ymax\u003d5.0)\nplt.legend()\nplt.plot([0, 1, 2, 3, 4], [1,2,3,4,5], [0,1,2,3,4],[1,1,1,1,1])",
      "metadata": {
        "pycharm": {
          "metadata": false,
          "name": "#%%\n",
          "is_executing": false
        }
      }
    },
    {
      "cell_type": "markdown",
      "source": "With the red line being $\\vec{b}$, the red line being $\\vec{a}$ and the yellow line being $\\vec{a} - \\vec{b}$. \u003cbr\u003e\nMeaning the length is: \n\u003eRed line: $||\\vec{a}||$ \u003cbr\u003e\nBlue line: $||\\vec{b}||$ \u003cbr\u003e\nYellow line: $||\\vec{a} - \\vec{b} ||$ \n\n## When is this not true:\n\n$||\\vec{b}|| \u003e ||\\vec{a}|| + ||\\vec{a}-\\vec{b}||$ \u003cbr\u003e\n$||\\vec{a}|| \u003e ||\\vec{a} - \\vec{b}|| + ||\\vec{b}||$ \u003cbr\u003e\n$||\\vec{a}-\\vec{b}||\u003e||\\vec{a}||+||\\vec{b}||$\n",
      "metadata": {
        "pycharm": {
          "metadata": false,
          "name": "#%% md\n"
        }
      }
    },
    {
      "cell_type": "markdown",
      "source": "# Proving the triangle inequality:\n1. $||\\vec{x}+\\vec{y}||\\leq ||\\vec{x}|| + ||\\vec{y}||$ \u003cbr\u003e\n2. $||\\vec{a}|| \u003d ||(\\vec{b})+(\\vec{a}-\\vec{b})|| \\leq ||\\vec{b}|| + ||\\vec{a}-\\vec{b}||$\u003cbr\u003e\nBecause of #2, we have now proven that the second \u0027not true\u0027 scenario written above does not apply here. \u003cbr\u003e\n3. $||\\vec{b}|| \u003d ||\\vec{a}+(\\vec{b}-\\vec{a})|| \\leq ||\\vec{a}||+||\\vec{b}-\\vec{a}||$ \u003cbr\u003e\nBecause of #3, we have now proven that the first \u0027not true\u0027 scenario written above does not apply here. \u003cbr\u003e\n4. $||\\vec{a}-\\vec{b}|| \u003d ||\\vec{a} + (-\\vec{b})|| \\leq ||\\vec{a}|| + ||-\\vec{b}||$ \u003cbr\u003e\nBecause of #4, we have now proven that the first \u0027not true\u0027 scenario written above does not apply here. \u003cbr\u003e",
      "metadata": {
        "pycharm": {
          "metadata": false,
          "name": "#%% md\n"
        }
      }
    },
    {
      "cell_type": "markdown",
      "source": "# The angle between vectors\nLaw of cosines: \u003cbr\u003e\n$c^{2} \u003d a^{2} \u003d b^{2} - 2ab\\cos\\theta$ \u003cbr\u003e\nWith vectors: \u003cbr\u003e\n$||\\vec{a}-\\vec{b}||^{2} \u003d ||\\vec{b}||^{2}+||\\vec{a}||^{2}-2||\\vec{a}||\\space||\\vec{b}||\\cos\\theta$ \u003cbr\u003e\n\u003e$(\\vec{a}-\\vec{b})\\cdot (\\vec{a}-\\vec{b})\u003d$  \u003cbr\u003e\n$\\vec{a} \\cdot \\vec{a} - \\vec{a} \\cdot \\vec{b} - \\vec{b}\\cdot\\vec{a}+\\vec{b}\\cdot\\vec{b}\u003d$ \u003cbr\u003e\n\n$||\\vec{a}||^{2} -2(\\vec{a}\\cdot\\vec{b})+||\\vec{b}||^{2} \u003d \n||\\vec{b}||^{2}+||\\vec{a}||^{2}-2||\\vec{a}||\\space||\\vec{b}||\\cos\\theta$ \u003cbr\u003e\n$(\\vec{a}\\cdot\\vec{b})\u003d||\\vec{a}||\\space||\\vec{b}||\\space\\cos\\theta \\leftarrow$ angle between any two vectors \u003cbr\u003e\n## Special cases\n$\\vec{a} \u003d c\\vec{v}; $\n\u003e$c \u003e 0 \\Rightarrow \\theta \u003d 0$ \u003cbr\u003e\n$ c \u003c 0 \\Rightarrow \\theta \u003d 180^{\\circ}$ \u003cbr\u003e\n$ c \u003d 0, \\cos0, \\cos\\theta \u003d \\dfrac{0}{0}$ \n## Things to note\nIf $\\theta$ is $90^{\\circ}$, the two vectors are perpendicular. \u003cbr\u003e\nIf $\\vec{a}$ and $\\vec{b}$ are not zero and $\\vec{a} \\cdot \\vec{b} \u003d 0$, then the two vectors are perpendicular\u003cbr\u003e\n$\\vec{a} \\cdot \\vec{b} \u003d 0 \\Rightarrow$ \u0027orthogonal\u0027 \u003cbr\u003e\nZero vector is \u0027orthogonal\u0027 to everything.\n\n",
      "metadata": {
        "pycharm": {
          "metadata": false,
          "name": "#%% md\n"
        }
      }
    }
  ],
  "metadata": {
    "language_info": {
      "codemirror_mode": {
        "name": "ipython",
        "version": 2
      },
      "file_extension": ".py",
      "mimetype": "text/x-python",
      "name": "python",
      "nbconvert_exporter": "python",
      "pygments_lexer": "ipython2",
      "version": "2.7.6"
    },
    "kernelspec": {
      "name": "python3",
      "language": "python",
      "display_name": "Python 3"
    }
  },
  "nbformat": 4,
  "nbformat_minor": 0
}