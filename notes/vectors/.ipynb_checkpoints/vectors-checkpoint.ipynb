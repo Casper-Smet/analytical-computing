{
 "cells": [
  {
   "cell_type": "markdown",
   "metadata": {
    "pycharm": {
     "metadata": false,
     "name": "#%% md\n"
    }
   },
   "source": [
    "# Vectors:\n"
   ]
  },
  {
   "cell_type": "markdown",
   "metadata": {
    "pycharm": {
     "metadata": false
    }
   },
   "source": [
    "Vector <-- magnitude & direction.<br> \n",
    "Magnitude <-- 5 km/h for example (speed without velocity is scalar, not a vector. <br>\n",
    "Direction <-- Any direction in any set of dimensions (If given a static point like the North Pole, East is an example) "
   ]
  },
  {
   "cell_type": "markdown",
   "metadata": {
    "pycharm": {
     "metadata": false,
     "name": "#%% md\n"
    }
   },
   "source": [
    "Next up is an example of a vector:"
   ]
  },
  {
   "cell_type": "code",
   "execution_count": 5,
   "metadata": {
    "pycharm": {
     "is_executing": false,
     "metadata": false,
     "name": "#%%\n"
    }
   },
   "outputs": [
    {
     "data": {
      "image/png": "[encoded data removed]",
      "text/plain": [
       "<Figure size 432x288 with 1 Axes>"
      ]
     },
     "metadata": {
      "needs_background": "light"
     },
     "output_type": "display_data"
    }
   ],
   "source": [
    "%matplotlib inline\n",
    "import matplotlib.pyplot as plt\n",
    "import numpy as np\n",
    "vectors = np.array([[6,6],[6,0], [0,-6]])\n",
    "origin = [0], [0]\n",
    "plt.quiver(*origin, vectors[:,0], vectors[:,1], color=['r','b','g'], scale=21)\n",
    "plt.show()"
   ]
  },
  {
   "cell_type": "markdown",
   "metadata": {
    "pycharm": {
     "metadata": false,
     "name": "#%% md\n"
    }
   },
   "source": [
    "Vectors are written down using real coordinate space.\n",
    "Real coordinate space <-- all possible real-valued '2-tuple's. <br>\n",
    "In the case of two dimensions, you use a '2-tuple'.\n",
    "\n",
    "\n",
    " ${\\displaystyle {\\vec {v}}} =(x,y)=\\begin{equation*} \\begin{vmatrix}\n",
    "x\\\\\n",
    "y\n",
    "\\end{vmatrix}\n",
    "\\end{equation*}$\n",
    "<br>"
   ]
  },
  {
   "cell_type": "markdown",
   "metadata": {
    "pycharm": {
     "metadata": false,
     "name": "#%% md\n"
    }
   },
   "source": [
    "So, if we take the blue vector as an example, the vector would be\n",
    "notated as such: \n",
    "${\\displaystyle {\\vec {v}}}=\\begin{equation*} \\begin{vmatrix}\n",
    "6\\\\\n",
    "0\n",
    "\\end{vmatrix}\n",
    "\\end{equation*}$\n",
    "\n"
   ]
  },
  {
   "cell_type": "markdown",
   "metadata": {
    "pycharm": {
     "metadata": false,
     "name": "#%% md\n"
    }
   },
   "source": [
    "-And perhaps even more interesting, the red vector:\n",
    "${\\displaystyle {\\vec {v}}}=\\begin{equation*} \\begin{vmatrix}\n",
    "6\\\\\n",
    "6\n",
    "\\end{vmatrix}\n",
    "\\end{equation*}$\n"
   ]
  }
 ],
 "metadata": {
  "kernelspec": {
   "display_name": "Python 3",
   "language": "python",
   "name": "python3"
  },
  "language_info": {
   "codemirror_mode": {
    "name": "ipython",
    "version": 3
   },
   "file_extension": ".py",
   "mimetype": "text/x-python",
   "name": "python",
   "nbconvert_exporter": "python",
   "pygments_lexer": "ipython3",
   "version": "3.7.3"
  },
  "stem_cell": {
   "cell_type": "raw",
   "metadata": {
    "pycharm": {
     "metadata": false
    }
   },
   "source": ""
  }
 },
 "nbformat": 4,
 "nbformat_minor": 1
}
