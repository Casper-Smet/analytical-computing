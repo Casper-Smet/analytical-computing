{
 "cells": [
  {
   "cell_type": "markdown",
   "metadata": {
    "collapsed": true,
    "pycharm": {
     "name": "#%% md\n"
    }
   },
   "source": [
    "# Span\n",
    "All linear combinations of a set of vectors, is called 'Span'. <br>\n",
    "A span from one vector is simply a line moving in one dimension. <br>\n",
    "$\\hat{\\imath} = \\begin{equation*} \\begin{vmatrix} 1\\\\0 \\end{vmatrix} \\end{equation*}$\n",
    "\n",
    "$\\hat{\\jmath} = \\begin{equation*} \\begin{vmatrix} 0\\\\1 \\end{vmatrix} \\end{equation*}$\n",
    "<br>"
   ]
  },
  {
   "cell_type": "code",
   "execution_count": 10,
   "metadata": {
    "pycharm": {
     "is_executing": false,
     "metadata": false,
     "name": "#%%\n"
    }
   },
   "outputs": [
    {
     "data": {
      "image/png": "[encoded data removed]",
      "text/plain": [
       "<Figure size 432x288 with 1 Axes>"
      ]
     },
     "metadata": {
      "needs_background": "light"
     },
     "output_type": "display_data"
    }
   ],
   "source": [
    "%matplotlib inline\n",
    "import matplotlib.pyplot as plt\n",
    "import numpy as np\n",
    "origin = [0], [0]\n",
    "vectors = np.array([[1,0],[0,1]])\n",
    "plt.quiver(*origin, vectors[:,0], vectors[:,1], color=['m','c'], scale=7)\n",
    "plt.show()"
   ]
  },
  {
   "cell_type": "markdown",
   "metadata": {
    "pycharm": {
     "metadata": false,
     "name": "#%% md\n"
    }
   },
   "source": [
    "\n",
    "Examples: <br><br>\n",
    "$Span(\\hat{\\jmath},\\hat{\\imath}) \\rightarrow R^{2}$ <br>\n",
    "$\\vec{r} = \\hat{\\jmath} + \\hat{\\imath} =\\begin{equation*} \\begin{vmatrix} 1\\\\1 \\end{vmatrix} \\end{equation*}$ <br>\n",
    "$\\vec{b} = \\hat{\\jmath} - \\hat{\\imath} = \\begin{equation*} \\begin{vmatrix} -1\\\\1 \\end{vmatrix} \\end{equation*}$ <br>\n",
    "$\\vec{g} = 5 \\times \\hat{\\jmath} = \\begin{equation*} \\begin{vmatrix} 0\\\\5 \\end{vmatrix} \\end{equation*}$\n"
   ]
  },
  {
   "cell_type": "code",
   "execution_count": 8,
   "metadata": {
    "pycharm": {
     "is_executing": false,
     "metadata": false,
     "name": "#%%\n"
    }
   },
   "outputs": [
    {
     "data": {
      "image/png": "[encoded data removed]",
      "text/plain": [
       "<Figure size 432x288 with 1 Axes>"
      ]
     },
     "metadata": {
      "needs_background": "light"
     },
     "output_type": "display_data"
    }
   ],
   "source": [
    "%matplotlib inline\n",
    "vectors = np.array([[1,1],[-1,1], [0,2]])\n",
    "plt.quiver(*origin, vectors[:,0], vectors[:,1], color=['r','b','g'], scale=7)\n",
    "plt.show()\n"
   ]
  },
  {
   "cell_type": "markdown",
   "metadata": {
    "pycharm": {
     "metadata": false,
     "name": "#%% md\n"
    }
   },
   "source": [
    "# Linearly (in)dependence\n",
    "When two lines are linearly dependent, they are essentially transformations of one another. This is the result of taking\n",
    "a vector and multiplying it with a scalar (see example $\\vec{g}$ in **Span**). <br>\n",
    "When vectors are linearly dependent, their span is, like with the span from one vector, \n",
    "a line moving in one dimension. <br>\n"
   ]
  }
 ],
 "metadata": {
  "kernelspec": {
   "display_name": "Python 3",
   "language": "python",
   "name": "python3"
  },
  "language_info": {
   "codemirror_mode": {
    "name": "ipython",
    "version": 3
   },
   "file_extension": ".py",
   "mimetype": "text/x-python",
   "name": "python",
   "nbconvert_exporter": "python",
   "pygments_lexer": "ipython3",
   "version": "3.7.3"
  }
 },
 "nbformat": 4,
 "nbformat_minor": 1
}
