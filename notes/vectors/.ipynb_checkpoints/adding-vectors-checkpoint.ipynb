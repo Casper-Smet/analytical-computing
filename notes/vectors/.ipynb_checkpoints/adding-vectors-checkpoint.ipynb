{
 "cells": [
  {
   "cell_type": "markdown",
   "metadata": {
    "collapsed": true,
    "pycharm": {
     "name": "#%% md\n"
    }
   },
   "source": [
    "# Adding vectors \n",
    "Adding vectors is a relatively simply practice. \n",
    "Simply add the corresponding values, with the \n",
    "result being the new magnitude for a certain direction ($x^{1}, x^{2},...,x^{n} = x^{v}$)\n",
    "<br>\n",
    "Example: <br>\n",
    "${\\displaystyle {\\vec {a}}}=\\begin{equation*} \\begin{vmatrix}\n",
    "7\\\\\n",
    "3\n",
    "\\end{vmatrix}\n",
    "\\end{equation*}$ <br>\n",
    "\n",
    "${\\displaystyle {\\vec {b}}}=\\begin{equation*} \\begin{vmatrix}\n",
    "-4\\\\\n",
    "5\n",
    "\\end{vmatrix}\n",
    "\\end{equation*}$ <br>\n",
    "${\\displaystyle {\\vec {c}}} = {\\vec {a}} + {\\vec {b}}$\n",
    "<br>\n",
    ">${\\displaystyle {\\vec {c}}} = \\begin{equation*} \\begin{vmatrix}\n",
    "(7) + (-3)\\\\\n",
    "(3) - (5)\n",
    "\\end{vmatrix}\n",
    "\\end{equation*}$ <br>\n",
    "\n"
   ]
  },
  {
   "cell_type": "markdown",
   "metadata": {
    "pycharm": {
     "metadata": false
    }
   },
   "source": [
    "${\\displaystyle {\\vec {c}}} = \\begin{equation*} \\begin{vmatrix}\n",
    "4\\\\\n",
    "-2\n",
    "\\end{vmatrix}\n",
    "\\end{equation*}$ <br>\n",
    "Next up, a visual representation of this:"
   ]
  },
  {
   "cell_type": "code",
   "execution_count": 1,
   "metadata": {
    "pycharm": {
     "is_executing": false,
     "metadata": false,
     "name": "#%%\n"
    }
   },
   "outputs": [
    {
     "data": {
      "text/plain": [
       "<Figure size 640x480 with 1 Axes>"
      ]
     },
     "metadata": {},
     "output_type": "display_data"
    }
   ],
   "source": [
    "import matplotlib.pyplot as plt\n",
    "import numpy as np\n",
    "vectors = np.array([[7,3],[-3,5], [4,-2]])\n",
    "origin = [0], [0]\n",
    "plt.quiver(*origin, vectors[:,0], vectors[:,1], color=['r','b','g'], scale=21)\n",
    "plt.show()\n"
   ]
  }
 ],
 "metadata": {
  "kernelspec": {
   "display_name": "Python 3",
   "language": "python",
   "name": "python3"
  },
  "language_info": {
   "codemirror_mode": {
    "name": "ipython",
    "version": 3
   },
   "file_extension": ".py",
   "mimetype": "text/x-python",
   "name": "python",
   "nbconvert_exporter": "python",
   "pygments_lexer": "ipython3",
   "version": "3.7.3"
  }
 },
 "nbformat": 4,
 "nbformat_minor": 1
}
