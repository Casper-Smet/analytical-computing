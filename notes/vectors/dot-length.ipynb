{
  "cells": [
    {
      "cell_type": "markdown",
      "metadata": {
        "collapsed": true,
        "pycharm": {
          "name": "#%% md\n"
        }
      },
      "source": "# Dot product\nDot product is a method of multiplying two or more vectors with one another. This is done by multiplying each \ncorresponding value with each other. So the movement in the y-dimension of $\\vec{a}$ times the movement in the dimension\ny of $\\vec{b}$. This results in a scalar, not another vector.\u003cbr\u003e\n$\\vec{a}\\cdot\\vec{b}$ \u003cbr\u003e\n$\\begin{bmatrix} a_{1}\\\\a_{2}\\\\.\\\\.\\\\a_{n}\\end{bmatrix}\n\\cdot\n\\begin{bmatrix} b_{1}\\\\b_{2}\\\\.\\\\.\\\\b_{n}\\end{bmatrix} \u003d\na_{1}b_{1}+a_{2}b_{2}+...+a_{n}b_{n}\n$"
    },
    {
      "cell_type": "markdown",
      "source": "# Length of a vector\nThe length of a vector is calculated with the principle of euclidean distance. (if you merely want to compare two\nvectors, you can forgo the use of the square root.) \u003cbr\u003e\n$||\\vec{a}|| \u003d \\sqrt{a_{1}^2+a_{2}^2+...+a_{n}^2}$",
      "metadata": {
        "pycharm": {
          "metadata": false,
          "name": "#%% md\n"
        }
      }
    },
    {
      "cell_type": "markdown",
      "source": "# Length through the dot product\nThe length of a vector is simply the square root of the dot product of one product with itself. \u003cbr\u003e\n$||\\vec{a}||^{2} \u003d \\vec{a} \\cdot \\vec{a}$\n",
      "metadata": {
        "pycharm": {
          "metadata": false,
          "name": "#%% md\n"
        }
      }
    },
    {
      "cell_type": "markdown",
      "source": "# Cauchy-Schwarz inequality\n$\\vec{x},\\vec{y} \\in R^{n}$\u003cbr\u003e\n$\\vec{x}, \\vec{y} \u003d \\not{0}$\u003cbr\u003e\n$|\\vec{x} \\cdot \\vec{y}| \\leq ||\\vec{x}||\\space ||\\vec{y}||$ \u003cbr\u003e\n$|\\vec{x} \\cdot \\vec{y}| \u003d ||\\vec{x}||\\space ||\\vec{y}|| \\iff \\vec{x} \u003d c\\vec{y}$",
      "metadata": {
        "pycharm": {
          "metadata": false,
          "name": "#%% md\n"
        }
      }
    },
    {
      "cell_type": "markdown",
      "source": "# Proving the Cauchy-Schwarz inequality\n$P(t) \u003d ||t\\vec{y} - \\vec{x}||^{2}$ \u003cbr\u003e\n\u003e$\u003d (t\\vec{y} - \\vec{x}) \\cdot (t\\vec{y} - \\vec{x})$ \u003cbr\u003e\n$\u003dt\\vec{y}\\cdot t\\vec{y} - \\vec{x} \\cdot t\\vec{y} - t\\vec{y}\\cdot\\vec{x} + -1\\vec{x}\\cdot -1\\vec{x}$ \u003cbr\u003e\n$\u003d(\\vec{y} \\cdot \\vec{y})t^{2} - 2(\\vec{x}\\cdot\\vec{y})t + \\vec{x}\\cdot\\vec{x} $ \u003cbr\u003e\n\u003e\u003e$a \u003d \\vec{y} \\cdot \\vec{y}$ \u003cbr\u003e\n$b \u003d 2(\\vec{x}\\cdot\\vec{y})$ \u003cbr\u003e\n$c \u003d \\vec{x}\\cdot\\vec{x}$\n\n$P(t) \u003d at^{2} - bt + c$\u003cbr\u003e\n$P(t) \\geq 0$\u003cbr\u003e\n$P(\\dfrac{b}{2a}) \u003d a \\dfrac{b^{2}}{4a^{2}} - b\\dfrac{b}{2a} + c$ \u003cbr\u003e\n\u003e$ \u003d \\dfrac{b^{2}}{4a} - \\dfrac{b^{2}}{2a} + c$ \u003cbr\u003e\n$ \u003d \\dfrac{b^{2}}{4a} - \\dfrac{2b^{2}}{4a} + c$ \u003cbr\u003e\n$ \u003d \\dfrac{-b^{2}}{4a} + c$ \u003cbr\u003e\n$ c \\geq \\dfrac{b^{2}}{4a}$ \u003cbr\u003e\n\n$ 4ac \\geq b^{2}$\n\u003e $4(||\\vec{y}||^{2}\\space||\\vec{x}||^{2}) \\leq (2(\\vec{x}\\cdot\\vec{y}))^{2}$ \u003cbr\u003e\n$4(||\\vec{y}||^{2}\\space||\\vec{x}||^{2}) \\leq 4(\\vec{x}\\cdot\\vec{y})^{2}$ \u003cbr\u003e\n$||\\vec{y}||^{2}\\space||\\vec{x}||^{2} \\leq (\\vec{x}\\cdot\\vec{y})^{2}$ \u003cbr\u003e\n\n$||\\vec{y}||\\space||\\vec{x}|| \\leq |\\vec{x} \\cdot \\vec{y}|$  \n",
      "metadata": {
        "pycharm": {
          "metadata": false,
          "name": "#%% md\n"
        }
      }
    },
    {
      "cell_type": "markdown",
      "source": "# But what if $\\vec{x} \u003d c\\vec{y}$?\n$|\\vec{x}\\cdot\\vec{y}| \u003d |c\\vec{y}\\cdot\\vec{y}| $ \u003cbr\u003e\n\u003e$ \u003d |c|\\space|\\vec{y}\\cdot\\vec{y}|$ \u003cbr\u003e\n$\u003d |c|\\space||\\vec{y}||^{2}$ \u003cbr\u003e\n$\u003d|c|\\space||\\vec{y}||\\space||\\vec{y}||$ \u003cbr\u003e\n$ \u003d ||c\\vec{y}||\\space||\\vec{y}||$ \u003cbr\u003e\n$ \u003d||\\vec{x}||\\space||\\vec{y}||$\n",
      "metadata": {
        "pycharm": {
          "metadata": false,
          "name": "#%% md\n"
        }
      }
    }
  ],
  "metadata": {
    "language_info": {
      "codemirror_mode": {
        "name": "ipython",
        "version": 2
      },
      "file_extension": ".py",
      "mimetype": "text/x-python",
      "name": "python",
      "nbconvert_exporter": "python",
      "pygments_lexer": "ipython2",
      "version": "2.7.6"
    },
    "kernelspec": {
      "name": "python3",
      "language": "python",
      "display_name": "Python 3"
    }
  },
  "nbformat": 4,
  "nbformat_minor": 0
}