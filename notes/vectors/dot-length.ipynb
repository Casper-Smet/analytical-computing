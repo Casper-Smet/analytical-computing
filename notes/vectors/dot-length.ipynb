{
 "cells": [
  {
   "cell_type": "markdown",
   "metadata": {
    "collapsed": true,
    "pycharm": {
     "name": "#%% md\n"
    }
   },
   "source": [
    "# Dot product\n",
    "Dot product is a method of multiplying two or more vectors with one another. This is done by multiplying each \n",
    "corresponding value with each other. So the movement in the y-dimension of $\\vec{a}$ times the movement in the dimension\n",
    "y of $\\vec{b}$. This results in a scalar, not another vector.<br>\n",
    "$\\vec{a}\\cdot\\vec{b}$ <br>\n",
    "$\\begin{bmatrix} a_{1}\\\\a_{2}\\\\.\\\\.\\\\a_{n}\\end{bmatrix}\n",
    "\\cdot\n",
    "\\begin{bmatrix} b_{1}\\\\b_{2}\\\\.\\\\.\\\\b_{n}\\end{bmatrix} =\n",
    "a_{1}b_{1}+a_{2}b_{2}+...+a_{n}b_{n}\n",
    "$"
   ]
  },
  {
   "cell_type": "markdown",
   "metadata": {
    "pycharm": {
     "metadata": false,
     "name": "#%% md\n"
    }
   },
   "source": [
    "# Length of a vector\n",
    "The length of a vector is calculated with the principle of euclidean distance. (if you merely want to compare two\n",
    "vectors, you can forgo the use of the square root.) <br>\n",
    "$||\\vec{a}|| = \\sqrt{a_{1}^2+a_{2}^2+...+a_{n}^2}$"
   ]
  },
  {
   "cell_type": "markdown",
   "metadata": {
    "pycharm": {
     "metadata": false,
     "name": "#%% md\n"
    }
   },
   "source": [
    "# Length through the dot product\n",
    "The length of a vector is simply the square root of the dot product of one product with itself. <br>\n",
    "$||\\vec{a}||^{2} = \\vec{a} \\cdot \\vec{a}$\n"
   ]
  },
  {
   "cell_type": "markdown",
   "metadata": {
    "pycharm": {
     "metadata": false,
     "name": "#%% md\n"
    }
   },
   "source": [
    "# Cauchy-Schwarz inequality\n",
    "$\\vec{x},\\vec{y} \\in R^{n}$<br>\n",
    "$\\vec{x}, \\vec{y} = \\not{0}$<br>\n",
    "$|\\vec{x} \\cdot \\vec{y}| \\leq ||\\vec{x}||\\space ||\\vec{y}||$ <br>\n",
    "$|\\vec{x} \\cdot \\vec{y}| = ||\\vec{x}||\\space ||\\vec{y}|| \\iff \\vec{x} = c\\vec{y}$"
   ]
  },
  {
   "cell_type": "markdown",
   "metadata": {
    "pycharm": {
     "metadata": false,
     "name": "#%% md\n"
    }
   },
   "source": [
    "# Proving the Cauchy-Schwarz inequality\n",
    "$P(t) = ||t\\vec{y} - \\vec{x}||^{2}$ <br>\n",
    ">$= (t\\vec{y} - \\vec{x}) \\cdot (t\\vec{y} - \\vec{x})$ <br>\n",
    "$=t\\vec{y}\\cdot t\\vec{y} - \\vec{x} \\cdot t\\vec{y} - t\\vec{y}\\cdot\\vec{x} + -1\\vec{x}\\cdot -1\\vec{x}$ <br>\n",
    "$=(\\vec{y} \\cdot \\vec{y})t^{2} - 2(\\vec{x}\\cdot\\vec{y})t + \\vec{x}\\cdot\\vec{x} $ <br>\n",
    ">>$a = \\vec{y} \\cdot \\vec{y}$ <br>\n",
    "$b = 2(\\vec{x}\\cdot\\vec{y})$ <br>\n",
    "$c = \\vec{x}\\cdot\\vec{x}$\n",
    "\n",
    "$P(t) = at^{2} - bt + c$<br>\n",
    "$P(t) \\geq 0$<br>\n",
    "$P(\\dfrac{b}{2a}) = a \\dfrac{b^{2}}{4a^{2}} - b\\dfrac{b}{2a} + c$ <br>\n",
    ">$ = \\dfrac{b^{2}}{4a} - \\dfrac{b^{2}}{2a} + c$ <br>\n",
    "$ = \\dfrac{b^{2}}{4a} - \\dfrac{2b^{2}}{4a} + c$ <br>\n",
    "$ = \\dfrac{-b^{2}}{4a} + c$ <br>\n",
    "$ c \\geq \\dfrac{b^{2}}{4a}$ <br>\n",
    "\n",
    "$ 4ac \\geq b^{2}$\n",
    "> $4(||\\vec{y}||^{2}\\space||\\vec{x}||^{2}) \\leq (2(\\vec{x}\\cdot\\vec{y}))^{2}$ <br>\n",
    "$4(||\\vec{y}||^{2}\\space||\\vec{x}||^{2}) \\leq 4(\\vec{x}\\cdot\\vec{y})^{2}$ <br>\n",
    "$||\\vec{y}||^{2}\\space||\\vec{x}||^{2} \\leq (\\vec{x}\\cdot\\vec{y})^{2}$ <br>\n",
    "\n",
    "$||\\vec{y}||\\space||\\vec{x}|| \\leq |\\vec{x} \\cdot \\vec{y}|$  \n"
   ]
  },
  {
   "cell_type": "markdown",
   "metadata": {
    "pycharm": {
     "metadata": false,
     "name": "#%% md\n"
    }
   },
   "source": [
    "# But what if $\\vec{x} = c\\vec{y}$?\n",
    "$|\\vec{x}\\cdot\\vec{y}| = |c\\vec{y}\\cdot\\vec{y}| $ <br>\n",
    ">$ = |c|\\space|\\vec{y}\\cdot\\vec{y}|$ <br>\n",
    "$= |c|\\space||\\vec{y}||^{2}$ <br>\n",
    "$=|c|\\space||\\vec{y}||\\space||\\vec{y}||$ <br>\n",
    "$ = ||c\\vec{y}||\\space||\\vec{y}||$ <br>\n",
    "$ =||\\vec{x}||\\space||\\vec{y}||$\n"
   ]
  }
 ],
 "metadata": {
  "kernelspec": {
   "display_name": "Python 3",
   "language": "python",
   "name": "python3"
  },
  "language_info": {
   "codemirror_mode": {
    "name": "ipython",
    "version": 3
   },
   "file_extension": ".py",
   "mimetype": "text/x-python",
   "name": "python",
   "nbconvert_exporter": "python",
   "pygments_lexer": "ipython3",
   "version": "3.7.3"
  }
 },
 "nbformat": 4,
 "nbformat_minor": 1
}
